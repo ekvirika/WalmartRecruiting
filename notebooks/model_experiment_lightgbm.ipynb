{
  "cells": [
    {
      "cell_type": "markdown",
      "metadata": {
        "id": "view-in-github",
        "colab_type": "text"
      },
      "source": [
        "<a href=\"https://colab.research.google.com/github/ekvirika/WalmartRecruiting/blob/main/notebooks/model_experiment_lightgbm.ipynb\" target=\"_parent\"><img src=\"https://colab.research.google.com/assets/colab-badge.svg\" alt=\"Open In Colab\"/></a>"
      ]
    },
    {
      "cell_type": "code",
      "execution_count": 3,
      "id": "d37ffccc",
      "metadata": {
        "id": "d37ffccc",
        "outputId": "f1a89a3c-39ff-42e5-a9b5-7971deb796ac",
        "colab": {
          "base_uri": "https://localhost:8080/"
        }
      },
      "outputs": [
        {
          "output_type": "stream",
          "name": "stdout",
          "text": [
            "Mounted at /content/drive\n"
          ]
        }
      ],
      "source": [
        "\n",
        "from google.colab import drive\n",
        "drive.mount('/content/drive')"
      ]
    },
    {
      "cell_type": "code",
      "execution_count": 4,
      "id": "a9a063c4",
      "metadata": {
        "id": "a9a063c4",
        "outputId": "9be853bf-0af2-4792-8e4f-58be6c8c1028",
        "colab": {
          "base_uri": "https://localhost:8080/"
        }
      },
      "outputs": [
        {
          "output_type": "stream",
          "name": "stdout",
          "text": [
            "\u001b[33mWARNING: Ignoring invalid distribution ~vidia-cusolver-cu12 (/usr/local/lib/python3.11/dist-packages)\u001b[0m\u001b[33m\n",
            "\u001b[0m\u001b[33mWARNING: Ignoring invalid distribution ~vidia-cusolver-cu12 (/usr/local/lib/python3.11/dist-packages)\u001b[0m\u001b[33m\n",
            "\u001b[0m\u001b[33mWARNING: Ignoring invalid distribution ~vidia-cusolver-cu12 (/usr/local/lib/python3.11/dist-packages)\u001b[0m\u001b[33m\n",
            "\u001b[0m\u001b[33mWARNING: Ignoring invalid distribution ~vidia-cusolver-cu12 (/usr/local/lib/python3.11/dist-packages)\u001b[0m\u001b[33m\n",
            "\u001b[0m\u001b[33mWARNING: Ignoring invalid distribution ~vidia-cusolver-cu12 (/usr/local/lib/python3.11/dist-packages)\u001b[0m\u001b[33m\n",
            "\u001b[0m\u001b[33mWARNING: Ignoring invalid distribution ~vidia-cusolver-cu12 (/usr/local/lib/python3.11/dist-packages)\u001b[0m\u001b[33m\n",
            "\u001b[0m\u001b[33mWARNING: Ignoring invalid distribution ~vidia-cusolver-cu12 (/usr/local/lib/python3.11/dist-packages)\u001b[0m\u001b[33m\n",
            "\u001b[0m\u001b[33mWARNING: Ignoring invalid distribution ~vidia-cusolver-cu12 (/usr/local/lib/python3.11/dist-packages)\u001b[0m\u001b[33m\n",
            "\u001b[0m\u001b[33mWARNING: Ignoring invalid distribution ~vidia-cusolver-cu12 (/usr/local/lib/python3.11/dist-packages)\u001b[0m\u001b[33m\n",
            "\u001b[0m\u001b[33mWARNING: Ignoring invalid distribution ~vidia-cusolver-cu12 (/usr/local/lib/python3.11/dist-packages)\u001b[0m\u001b[33m\n",
            "\u001b[0m\u001b[33mWARNING: Ignoring invalid distribution ~vidia-cusolver-cu12 (/usr/local/lib/python3.11/dist-packages)\u001b[0m\u001b[33m\n",
            "\u001b[0m\u001b[33mWARNING: Ignoring invalid distribution ~vidia-cusolver-cu12 (/usr/local/lib/python3.11/dist-packages)\u001b[0m\u001b[33m\n",
            "\u001b[0m\u001b[33mWARNING: Ignoring invalid distribution ~vidia-cusolver-cu12 (/usr/local/lib/python3.11/dist-packages)\u001b[0m\u001b[33m\n",
            "\u001b[2K   \u001b[90m━━━━━━━━━━━━━━━━━━━━━━━━━━━━━━━━━━━━━━━━\u001b[0m \u001b[32m261.2/261.2 kB\u001b[0m \u001b[31m7.1 MB/s\u001b[0m eta \u001b[36m0:00:00\u001b[0m\n",
            "\u001b[2K   \u001b[90m━━━━━━━━━━━━━━━━━━━━━━━━━━━━━━━━━━━━━━━━\u001b[0m \u001b[32m139.9/139.9 kB\u001b[0m \u001b[31m12.3 MB/s\u001b[0m eta \u001b[36m0:00:00\u001b[0m\n",
            "\u001b[2K   \u001b[90m━━━━━━━━━━━━━━━━━━━━━━━━━━━━━━━━━━━━━━━━\u001b[0m \u001b[32m13.9/13.9 MB\u001b[0m \u001b[31m100.2 MB/s\u001b[0m eta \u001b[36m0:00:00\u001b[0m\n",
            "\u001b[2K   \u001b[90m━━━━━━━━━━━━━━━━━━━━━━━━━━━━━━━━━━━━━━━━\u001b[0m \u001b[32m50.9/50.9 kB\u001b[0m \u001b[31m4.2 MB/s\u001b[0m eta \u001b[36m0:00:00\u001b[0m\n",
            "\u001b[2K   \u001b[90m━━━━━━━━━━━━━━━━━━━━━━━━━━━━━━━━━━━━━━━━\u001b[0m \u001b[32m85.3/85.3 kB\u001b[0m \u001b[31m7.9 MB/s\u001b[0m eta \u001b[36m0:00:00\u001b[0m\n",
            "\u001b[2K   \u001b[90m━━━━━━━━━━━━━━━━━━━━━━━━━━━━━━━━━━━━━━━━\u001b[0m \u001b[32m74.3/74.3 kB\u001b[0m \u001b[31m6.4 MB/s\u001b[0m eta \u001b[36m0:00:00\u001b[0m\n",
            "\u001b[?25h\u001b[33mWARNING: Ignoring invalid distribution ~vidia-cusolver-cu12 (/usr/local/lib/python3.11/dist-packages)\u001b[0m\u001b[33m\n",
            "\u001b[0m\u001b[33mWARNING: Ignoring invalid distribution ~vidia-cusolver-cu12 (/usr/local/lib/python3.11/dist-packages)\u001b[0m\u001b[33m\n",
            "\u001b[0m\u001b[33mWARNING: Ignoring invalid distribution ~vidia-cusolver-cu12 (/usr/local/lib/python3.11/dist-packages)\u001b[0m\u001b[33m\n",
            "\u001b[0m\u001b[33mWARNING: Ignoring invalid distribution ~vidia-cusolver-cu12 (/usr/local/lib/python3.11/dist-packages)\u001b[0m\u001b[33m\n",
            "\u001b[0m\u001b[33mWARNING: Ignoring invalid distribution ~vidia-cusolver-cu12 (/usr/local/lib/python3.11/dist-packages)\u001b[0m\u001b[33m\n",
            "\u001b[0m\u001b[33mWARNING: Ignoring invalid distribution ~vidia-cusolver-cu12 (/usr/local/lib/python3.11/dist-packages)\u001b[0m\u001b[33m\n",
            "\u001b[0m\u001b[33mWARNING: Ignoring invalid distribution ~vidia-cusolver-cu12 (/usr/local/lib/python3.11/dist-packages)\u001b[0m\u001b[33m\n",
            "\u001b[0m\u001b[33mWARNING: Ignoring invalid distribution ~vidia-cusolver-cu12 (/usr/local/lib/python3.11/dist-packages)\u001b[0m\u001b[33m\n",
            "\u001b[0m\u001b[33mWARNING: Ignoring invalid distribution ~vidia-cusolver-cu12 (/usr/local/lib/python3.11/dist-packages)\u001b[0m\u001b[33m\n",
            "\u001b[0m\u001b[33mWARNING: Ignoring invalid distribution ~vidia-cusolver-cu12 (/usr/local/lib/python3.11/dist-packages)\u001b[0m\u001b[33m\n",
            "\u001b[0m\u001b[33mWARNING: Ignoring invalid distribution ~vidia-cusolver-cu12 (/usr/local/lib/python3.11/dist-packages)\u001b[0m\u001b[33m\n",
            "\u001b[0m\u001b[33mWARNING: Ignoring invalid distribution ~vidia-cusolver-cu12 (/usr/local/lib/python3.11/dist-packages)\u001b[0m\u001b[33m\n",
            "\u001b[0m\u001b[33mWARNING: Ignoring invalid distribution ~vidia-cusolver-cu12 (/usr/local/lib/python3.11/dist-packages)\u001b[0m\u001b[33m\n",
            "\u001b[0m\u001b[33mWARNING: Ignoring invalid distribution ~vidia-cusolver-cu12 (/usr/local/lib/python3.11/dist-packages)\u001b[0m\u001b[33m\n",
            "\u001b[0m\u001b[33mWARNING: Ignoring invalid distribution ~vidia-cusolver-cu12 (/usr/local/lib/python3.11/dist-packages)\u001b[0m\u001b[33m\n",
            "\u001b[0m\u001b[33mWARNING: Ignoring invalid distribution ~vidia-cusolver-cu12 (/usr/local/lib/python3.11/dist-packages)\u001b[0m\u001b[33m\n",
            "\u001b[0m\u001b[33mWARNING: Ignoring invalid distribution ~vidia-cusolver-cu12 (/usr/local/lib/python3.11/dist-packages)\u001b[0m\u001b[33m\n",
            "\u001b[0m"
          ]
        }
      ],
      "source": [
        "\n",
        "# Install required packages\n",
        "!pip install -q wandb torch torchvision pandas numpy matplotlib seaborn scikit-learn mlflow pytorch_lightning pytorch_forecasting\n",
        "\n",
        "# Set up Kaggle API\n",
        "!pip install -q kaggle  dagshub"
      ]
    },
    {
      "cell_type": "code",
      "execution_count": 5,
      "id": "caaec57a",
      "metadata": {
        "id": "caaec57a"
      },
      "outputs": [],
      "source": [
        "\n",
        "# Upload your kaggle.json to Colab and run:\n",
        "!mkdir -p ~/.kaggle\n",
        "!cp /content/drive/MyDrive/ColabNotebooks/kaggle_API_credentials/kaggle.json ~/.kaggle/kaggle.json\n",
        "! chmod 600 ~/.kaggle/kaggle.json\n"
      ]
    },
    {
      "cell_type": "code",
      "execution_count": 6,
      "id": "1c101c9a",
      "metadata": {
        "id": "1c101c9a",
        "outputId": "7eafb6da-a658-4f6e-a1de-436a853b7eee",
        "colab": {
          "base_uri": "https://localhost:8080/"
        }
      },
      "outputs": [
        {
          "output_type": "stream",
          "name": "stdout",
          "text": [
            "Downloading walmart-recruiting-store-sales-forecasting.zip to /content\n",
            "\r  0% 0.00/2.70M [00:00<?, ?B/s]\n",
            "\r100% 2.70M/2.70M [00:00<00:00, 572MB/s]\n"
          ]
        }
      ],
      "source": [
        "\n",
        "# Download the dataset\n",
        "!kaggle competitions download -c walmart-recruiting-store-sales-forecasting\n",
        "!unzip -q walmart-recruiting-store-sales-forecasting.zip"
      ]
    },
    {
      "cell_type": "code",
      "execution_count": 7,
      "id": "9ea4e8ff",
      "metadata": {
        "id": "9ea4e8ff",
        "outputId": "05bd9abd-67e1-4f16-c990-739503867886",
        "colab": {
          "base_uri": "https://localhost:8080/"
        }
      },
      "outputs": [
        {
          "output_type": "stream",
          "name": "stdout",
          "text": [
            "unzip:  cannot find or open stores.csv.zip, stores.csv.zip.zip or stores.csv.zip.ZIP.\n"
          ]
        }
      ],
      "source": [
        "\n",
        "!unzip -q train.csv.zip\n",
        "!unzip -q stores.csv.zip\n",
        "!unzip -q test.csv.zip\n",
        "!unzip -q features.csv.zip\n"
      ]
    },
    {
      "cell_type": "code",
      "source": [
        "!pip install dagshub mlflow --quiet\n",
        "! pip install optuna"
      ],
      "metadata": {
        "id": "ki4OFcT8Namn",
        "outputId": "1cf3f6ed-907b-4589-9309-2dee68b8c249",
        "colab": {
          "base_uri": "https://localhost:8080/"
        }
      },
      "id": "ki4OFcT8Namn",
      "execution_count": 8,
      "outputs": [
        {
          "output_type": "stream",
          "name": "stdout",
          "text": [
            "\u001b[33mWARNING: Ignoring invalid distribution ~vidia-cusolver-cu12 (/usr/local/lib/python3.11/dist-packages)\u001b[0m\u001b[33m\n",
            "\u001b[0m\u001b[33mWARNING: Ignoring invalid distribution ~vidia-cusolver-cu12 (/usr/local/lib/python3.11/dist-packages)\u001b[0m\u001b[33m\n",
            "\u001b[0m\u001b[33mWARNING: Ignoring invalid distribution ~vidia-cusolver-cu12 (/usr/local/lib/python3.11/dist-packages)\u001b[0m\u001b[33m\n",
            "\u001b[0m\u001b[33mWARNING: Ignoring invalid distribution ~vidia-cusolver-cu12 (/usr/local/lib/python3.11/dist-packages)\u001b[0m\u001b[33m\n",
            "\u001b[0m\u001b[33mWARNING: Ignoring invalid distribution ~vidia-cusolver-cu12 (/usr/local/lib/python3.11/dist-packages)\u001b[0m\u001b[33m\n",
            "\u001b[0mCollecting optuna\n",
            "  Downloading optuna-4.4.0-py3-none-any.whl.metadata (17 kB)\n",
            "Requirement already satisfied: alembic>=1.5.0 in /usr/local/lib/python3.11/dist-packages (from optuna) (1.16.4)\n",
            "Collecting colorlog (from optuna)\n",
            "  Downloading colorlog-6.9.0-py3-none-any.whl.metadata (10 kB)\n",
            "Requirement already satisfied: numpy in /usr/local/lib/python3.11/dist-packages (from optuna) (2.0.2)\n",
            "Requirement already satisfied: packaging>=20.0 in /usr/local/lib/python3.11/dist-packages (from optuna) (25.0)\n",
            "Requirement already satisfied: sqlalchemy>=1.4.2 in /usr/local/lib/python3.11/dist-packages (from optuna) (2.0.41)\n",
            "Requirement already satisfied: tqdm in /usr/local/lib/python3.11/dist-packages (from optuna) (4.67.1)\n",
            "Requirement already satisfied: PyYAML in /usr/local/lib/python3.11/dist-packages (from optuna) (6.0.2)\n",
            "Requirement already satisfied: Mako in /usr/lib/python3/dist-packages (from alembic>=1.5.0->optuna) (1.1.3)\n",
            "Requirement already satisfied: typing-extensions>=4.12 in /usr/local/lib/python3.11/dist-packages (from alembic>=1.5.0->optuna) (4.14.1)\n",
            "Requirement already satisfied: greenlet>=1 in /usr/local/lib/python3.11/dist-packages (from sqlalchemy>=1.4.2->optuna) (3.2.3)\n",
            "Downloading optuna-4.4.0-py3-none-any.whl (395 kB)\n",
            "\u001b[2K   \u001b[90m━━━━━━━━━━━━━━━━━━━━━━━━━━━━━━━━━━━━━━━━\u001b[0m \u001b[32m395.9/395.9 kB\u001b[0m \u001b[31m9.4 MB/s\u001b[0m eta \u001b[36m0:00:00\u001b[0m\n",
            "\u001b[?25hDownloading colorlog-6.9.0-py3-none-any.whl (11 kB)\n",
            "\u001b[33mWARNING: Ignoring invalid distribution ~vidia-cusolver-cu12 (/usr/local/lib/python3.11/dist-packages)\u001b[0m\u001b[33m\n",
            "\u001b[0mInstalling collected packages: colorlog, optuna\n",
            "\u001b[33mWARNING: Ignoring invalid distribution ~vidia-cusolver-cu12 (/usr/local/lib/python3.11/dist-packages)\u001b[0m\u001b[33m\n",
            "\u001b[0m\u001b[33mWARNING: Ignoring invalid distribution ~vidia-cusolver-cu12 (/usr/local/lib/python3.11/dist-packages)\u001b[0m\u001b[33m\n",
            "\u001b[0mSuccessfully installed colorlog-6.9.0 optuna-4.4.0\n"
          ]
        }
      ]
    },
    {
      "cell_type": "code",
      "source": [
        "import pandas as pd\n",
        "import numpy as np\n",
        "import matplotlib.pyplot as plt\n",
        "import seaborn as sns\n",
        "import warnings\n",
        "from datetime import datetime, timedelta\n",
        "\n",
        "from sklearn.model_selection import train_test_split, GridSearchCV, RandomizedSearchCV, TimeSeriesSplit\n",
        "from sklearn.preprocessing import StandardScaler, LabelEncoder, OneHotEncoder, RobustScaler\n",
        "from sklearn.impute import SimpleImputer\n",
        "from sklearn.compose import ColumnTransformer\n",
        "from sklearn.pipeline import Pipeline\n",
        "from sklearn.metrics import mean_absolute_error, mean_squared_error\n",
        "from sklearn.base import BaseEstimator, TransformerMixin\n",
        "\n",
        "import lightgbm as lgb\n",
        "import mlflow\n",
        "import mlflow.lightgbm\n",
        "from mlflow.tracking import MlflowClient\n",
        "\n",
        "warnings.filterwarnings('ignore')\n"
      ],
      "metadata": {
        "id": "U1iCKIG-NgG9"
      },
      "id": "U1iCKIG-NgG9",
      "execution_count": 9,
      "outputs": []
    },
    {
      "cell_type": "code",
      "source": [
        "import mlflow\n",
        "from dagshub import dagshub_logger\n",
        "import os\n",
        "\n",
        "# Set tracking URI manually\n",
        "mlflow.set_tracking_uri(\"https://dagshub.com/ekvirika/WalmartRecruiting.mlflow\")\n",
        "\n",
        "# Use your DagsHub credentials\n",
        "os.environ[\"MLFLOW_TRACKING_USERNAME\"] = \"ekvirika\"\n",
        "os.environ[\"MLFLOW_TRACKING_PASSWORD\"] = \"0adb1004ddd4221395353efea2d8ead625e26197\"\n",
        "\n",
        "# Optional: set registry if you're using model registry\n",
        "mlflow.set_registry_uri(\"https://dagshub.com/ekvirika/WalmartRecruiting.mlflow\")"
      ],
      "metadata": {
        "id": "meCDQ-eMNjwa"
      },
      "id": "meCDQ-eMNjwa",
      "execution_count": 10,
      "outputs": []
    },
    {
      "cell_type": "code",
      "source": [
        "# import mlflow.sklearn\n",
        "# import mlflow.lightgbm\n",
        "# from sklearn.model_selection import train_test_split\n",
        "# from sklearn.preprocessing import OneHotEncoder\n",
        "# from sklearn.impute import SimpleImputer\n",
        "# from sklearn.compose import ColumnTransformer\n",
        "# from sklearn.pipeline import Pipeline\n",
        "# from lightgbm import LGBMRegressor\n",
        "# from sklearn.metrics import mean_absolute_error\n",
        "# from sklearn.model_selection import RandomizedSearchCV\n",
        "# import matplotlib.pyplot as plt\n",
        "# import joblib\n",
        "\n",
        "\n",
        "\n",
        "\n",
        "# # ----------------------\n",
        "# # Evaluation Metric (WMAE)\n",
        "# # ----------------------\n",
        "# def weighted_mae(y_true, y_pred, is_holiday):\n",
        "#     weights = np.where(is_holiday, 5, 1)\n",
        "#     return np.sum(weights * np.abs(y_true - y_pred)) / np.sum(weights)\n",
        "\n",
        "# # ----------------------\n",
        "# # Data Loader\n",
        "# # ----------------------\n",
        "# def load_data():\n",
        "#     with mlflow.start_run(run_name=\"LGBM_Data_Loading\", nested=True):\n",
        "#         train_df = pd.read_csv('train.csv')\n",
        "#         test_df = pd.read_csv('test.csv')\n",
        "#         stores_df = pd.read_csv('stores.csv')\n",
        "#         features_df = pd.read_csv('features.csv')\n",
        "\n",
        "#         df = train_df.merge(features_df, on=['Store', 'Date'], how='inner') \\\n",
        "#                      .merge(stores_df, on='Store', how='inner')\n",
        "\n",
        "#         mlflow.log_params({\n",
        "#             \"train_shape\": train_df.shape,\n",
        "#             \"test_shape\": test_df.shape,\n",
        "#             \"missing_values_train\": train_df.isnull().sum().sum(),\n",
        "#             \"missing_values_test\": test_df.isnull().sum().sum()\n",
        "#         })\n",
        "\n",
        "#         return df\n",
        "\n",
        "# # ----------------------\n",
        "# # Preprocessing\n",
        "# # ----------------------\n",
        "# def preprocess(df):\n",
        "#     with mlflow.start_run(run_name=\"LGBM_Cleaning\", nested=True):\n",
        "\n",
        "\n",
        "#       df = df.copy()\n",
        "\n",
        "#       # Fix column naming issues\n",
        "#       df[\"IsHoliday\"] = df.pop(\"IsHoliday_x\") if \"IsHoliday_x\" in df else df[\"IsHoliday\"]\n",
        "#       df.drop(columns=[\"IsHoliday_y\"], errors='ignore', inplace=True)\n",
        "\n",
        "#       # Filter and sort\n",
        "#       df = df[df[\"Weekly_Sales\"] > 0]\n",
        "#       df[\"Date\"] = pd.to_datetime(df[\"Date\"])\n",
        "#       df = df.sort_values(by=\"Date\")\n",
        "\n",
        "#       # Remove outliers\n",
        "#       q_low = df[\"Weekly_Sales\"].quantile(0.01)\n",
        "#       q_high = df[\"Weekly_Sales\"].quantile(0.99)\n",
        "#       df = df[(df[\"Weekly_Sales\"] >= q_low) & (df[\"Weekly_Sales\"] <= q_high)]\n",
        "\n",
        "#       # Lag features\n",
        "#       for lag in [1, 2, 4, 52]:\n",
        "#           df[f\"lag_{lag}\"] = df.groupby(\"Store\")[\"Weekly_Sales\"].shift(lag)\n",
        "\n",
        "#       # Rolling statistics\n",
        "#       df[\"rolling_mean_4\"] = df.groupby(\"Store\")[\"Weekly_Sales\"].shift(1).rolling(window=4).mean()\n",
        "#       df[\"rolling_std_4\"] = df.groupby(\"Store\")[\"Weekly_Sales\"].shift(1).rolling(window=4).std()\n",
        "\n",
        "#       # Fill missing MarkDowns\n",
        "#       markdown_cols = [col for col in df.columns if \"MarkDown\" in col]\n",
        "#       df[markdown_cols] = df[markdown_cols].fillna(0)\n",
        "\n",
        "#       # Date features\n",
        "#       df[\"Year\"] = df[\"Date\"].dt.year\n",
        "#       df[\"Month\"] = df[\"Date\"].dt.month\n",
        "#       df[\"Week\"] = df[\"Date\"].dt.isocalendar().week\n",
        "#       df[\"DayOfWeek\"] = df[\"Date\"].dt.dayofweek\n",
        "#       df[\"IsMonthStart\"] = df[\"Date\"].dt.is_month_start.astype(int)\n",
        "#       df[\"IsMonthEnd\"] = df[\"Date\"].dt.is_month_end.astype(int)\n",
        "#       df[\"Quarter\"] = df[\"Date\"].dt.quarter\n",
        "#       df.drop(columns=[\"Date\"], inplace=True)\n",
        "\n",
        "#       mlflow.log_params({\"droppped_cols\": \"IsHoliday_x, IsHoliday_y, Date\", \"fill_markdown_NaNs\": \"0\"})\n",
        "\n",
        "#       # Drop rows with missing lag/rolling values\n",
        "#       df = df.dropna()\n",
        "\n",
        "#       return df\n",
        "\n",
        "# # ----------------------\n",
        "# # Dynamic Pipeline Builder\n",
        "# # ----------------------\n",
        "# def build_pipeline(X, model=None):\n",
        "#     with mlflow.start_run(run_name=\"LGBM_Feature_Engineering\", nested=True):\n",
        "\n",
        "#       numeric_cols = X.select_dtypes(include=np.number).columns.tolist()\n",
        "#       categorical_cols = X.select_dtypes(include=[\"object\", \"category\", \"bool\"]).columns.tolist()\n",
        "\n",
        "#       preprocessor = ColumnTransformer(transformers=[\n",
        "#           (\"num\", SimpleImputer(strategy='mean'), numeric_cols),\n",
        "#           (\"cat\", OneHotEncoder(drop='first', handle_unknown='ignore'), categorical_cols)\n",
        "#       ])\n",
        "\n",
        "#       if model is None:\n",
        "#           model = LGBMRegressor(\n",
        "#               n_estimators=100,\n",
        "#               max_depth=6,\n",
        "#               learning_rate=0.1,\n",
        "#               random_state=42,\n",
        "#               n_jobs=-1\n",
        "#           )\n",
        "\n",
        "#       pipeline = Pipeline([\n",
        "#           (\"preprocessor\", preprocessor),\n",
        "#           (\"model\", model)\n",
        "#       ])\n",
        "\n",
        "#       mlflow.log_params({\"num_cols\": numeric_cols, \"cat_cols\": categorical_cols,\n",
        "#                         \"simple_imputer\": \"mean\", \"cat_encoder\": \"one_hot\", \"pipeline\": pipeline})\n",
        "\n",
        "#       return pipeline\n",
        "\n",
        "# # ----------------------\n",
        "# # Runner\n",
        "# # ----------------------\n",
        "# def run():\n",
        "#     # with mlflow.start_run(run_name=\"XGBoost_Training\"):\n",
        "\n",
        "#       df = load_data()\n",
        "#       df = preprocess(df)\n",
        "\n",
        "#       # Define features and target\n",
        "#       X = df.drop(columns=[\"Weekly_Sales\"])\n",
        "#       y = df[\"Weekly_Sales\"]\n",
        "\n",
        "#       # Split\n",
        "#       X_train, X_test, y_train, y_test = train_test_split(\n",
        "#           X, y, test_size=0.2, random_state=42\n",
        "#       )\n",
        "\n",
        "#       # Store IsHoliday for WMAE\n",
        "#       is_holiday_test = X_test[\"IsHoliday\"].astype(bool).values if \"IsHoliday\" in X_test.columns else np.zeros_like(y_test)\n",
        "\n",
        "#       # Train\n",
        "#       pipeline = build_pipeline(X_train)\n",
        "\n",
        "#       # Hyperparameter search space\n",
        "#       param_dist = {\n",
        "#           \"model__n_estimators\": [100, 200, 300, 500, 800, 1000],\n",
        "#           \"model__max_depth\": [3, 6, 9, -1],  # -1 means no limit\n",
        "#           \"model__learning_rate\": [0.01, 0.1],\n",
        "#           \"model__subsample\": [0.6, 0.8, 1.0],  # still valid\n",
        "#           \"model__colsample_bytree\": [0.6, 0.8, 1.0],  # also valid\n",
        "#           \"model__num_leaves\": [31, 63, 127, 255, 511]\n",
        "#       }\n",
        "\n",
        "\n",
        "#       search = RandomizedSearchCV(\n",
        "#           pipeline,\n",
        "#           param_distributions=param_dist,\n",
        "#           n_iter=20,\n",
        "#           cv=3,\n",
        "#           scoring=\"neg_mean_absolute_error\",  # you could also define custom scorer using WMAE if needed\n",
        "#           verbose=2,\n",
        "#           n_jobs=-1,\n",
        "#           random_state=42\n",
        "#       )\n",
        "\n",
        "#       search.fit(X_train, y_train)\n",
        "\n",
        "#       best_model = search.best_estimator_\n",
        "#       y_pred = best_model.predict(X_test)\n",
        "\n",
        "#       # WMAE\n",
        "#       wmae_score = weighted_mae(y_test.values, y_pred, is_holiday_test)\n",
        "#       print(f\"✅ WMAE: {wmae_score:.2f}\")\n",
        "\n",
        "#       mlflow.log_params(search.best_params_)\n",
        "#       mlflow.log_metric(\"WMAE\", wmae_score)\n",
        "#       # mlflow.sklearn.log_model(best_model.named_steps[\"model\"], artifact_path=\"lgbm_model\")\n",
        "#       joblib.dump(best_model.named_steps[\"model\"], \"lgbm_model.pkl\")\n",
        "#       mlflow.log_artifact(\"lgbm_model.pkl\")\n",
        "\n",
        "#       joblib.dump(best_model, \"lgbm_pipeline.pkl\")\n",
        "#       mlflow.log_artifact(\"lgbm_pipeline.pkl\")\n",
        "\n",
        "\n",
        "#       # Save feature importance plot as artifact\n",
        "#       fig, ax = plt.subplots()\n",
        "#       lgb_model = best_model.named_steps[\"model\"]\n",
        "#       importances = lgb_model.feature_importances_\n",
        "#       ax.bar(range(len(importances)), importances)\n",
        "#       plt.savefig(\"feature_importance.png\")\n",
        "#       mlflow.log_artifact(\"feature_importance.png\")\n",
        "\n",
        "\n",
        "#       return best_model\n",
        "\n",
        "# # ----------------------\n",
        "# # Entry Point\n",
        "# # ----------------------\n",
        "# if __name__ == \"__main__\":\n",
        "#     try:\n",
        "#         with mlflow.start_run(run_name=\"LGBM_Training\"):\n",
        "#             model = run()\n",
        "#         print(\"✅ Pipeline executed successfully!\")\n",
        "#     except Exception as e:\n",
        "#         print(f\"❌ Pipeline failed: {e}\")\n"
      ],
      "metadata": {
        "id": "kCFU6zraNr9N",
        "outputId": "cc845920-1eff-490f-cc3a-39b6766661d8",
        "colab": {
          "base_uri": "https://localhost:8080/",
          "height": 762
        },
        "collapsed": true
      },
      "id": "kCFU6zraNr9N",
      "execution_count": null,
      "outputs": [
        {
          "output_type": "stream",
          "name": "stdout",
          "text": [
            "🏃 View run LGBM_Data_Loading at: https://dagshub.com/ekvirika/WalmartRecruiting.mlflow/#/experiments/0/runs/986cd96414c94542a1ef485c459b4847\n",
            "🧪 View experiment at: https://dagshub.com/ekvirika/WalmartRecruiting.mlflow/#/experiments/0\n",
            "🏃 View run LGBM_Cleaning at: https://dagshub.com/ekvirika/WalmartRecruiting.mlflow/#/experiments/0/runs/8f25551e447d4629b5c1da46196539c5\n",
            "🧪 View experiment at: https://dagshub.com/ekvirika/WalmartRecruiting.mlflow/#/experiments/0\n",
            "🏃 View run LGBM_Feature_Engineering at: https://dagshub.com/ekvirika/WalmartRecruiting.mlflow/#/experiments/0/runs/493aeb3b716e47148ec797aff1843dee\n",
            "🧪 View experiment at: https://dagshub.com/ekvirika/WalmartRecruiting.mlflow/#/experiments/0\n",
            "Fitting 3 folds for each of 20 candidates, totalling 60 fits\n",
            "[LightGBM] [Info] Auto-choosing row-wise multi-threading, the overhead of testing was 0.044210 seconds.\n",
            "You can set `force_row_wise=true` to remove the overhead.\n",
            "And if memory is not enough, you can set `force_col_wise=true`.\n",
            "[LightGBM] [Info] Total Bins 4068\n",
            "[LightGBM] [Info] Number of data points in the train set: 327584, number of used features: 27\n",
            "[LightGBM] [Info] Start training from score 14928.431765\n"
          ]
        },
        {
          "output_type": "stream",
          "name": "stderr",
          "text": [
            "WARNING:urllib3.connectionpool:Retrying (Retry(total=6, connect=7, read=6, redirect=7, status=7)) after connection broken by 'RemoteDisconnected('Remote end closed connection without response')': /ekvirika/WalmartRecruiting.mlflow/api/2.0/mlflow/runs/log-batch\n"
          ]
        },
        {
          "output_type": "stream",
          "name": "stdout",
          "text": [
            "✅ WMAE: 1950.99\n",
            "🏃 View run LGBM_Training at: https://dagshub.com/ekvirika/WalmartRecruiting.mlflow/#/experiments/0/runs/ef42853470534b928a6c661256b0120e\n",
            "🧪 View experiment at: https://dagshub.com/ekvirika/WalmartRecruiting.mlflow/#/experiments/0\n",
            "✅ Pipeline executed successfully!\n"
          ]
        },
        {
          "output_type": "display_data",
          "data": {
            "text/plain": [
              "<Figure size 640x480 with 1 Axes>"
            ],
            "image/png": "[encoded data removed]"
          },
          "metadata": {}
        }
      ]
    },
    {
      "cell_type": "code",
      "source": [
        "train_df = pd.read_csv('train.csv')\n",
        "test_df = pd.read_csv('test.csv')\n",
        "stores_df = pd.read_csv('stores.csv')\n",
        "features_df = pd.read_csv('features.csv')"
      ],
      "metadata": {
        "id": "Jv3UkGSNiMZL"
      },
      "id": "Jv3UkGSNiMZL",
      "execution_count": 18,
      "outputs": []
    },
    {
      "cell_type": "code",
      "source": [
        "import pandas as pd\n",
        "import numpy as np\n",
        "import mlflow\n",
        "import mlflow.sklearn\n",
        "import mlflow.lightgbm\n",
        "from sklearn.base import BaseEstimator, TransformerMixin\n",
        "from sklearn.model_selection import train_test_split, RandomizedSearchCV\n",
        "from sklearn.preprocessing import OneHotEncoder\n",
        "from sklearn.impute import SimpleImputer\n",
        "from sklearn.compose import ColumnTransformer\n",
        "from sklearn.pipeline import Pipeline\n",
        "from lightgbm import LGBMRegressor\n",
        "from sklearn.metrics import mean_absolute_error\n",
        "import matplotlib.pyplot as plt\n",
        "import joblib\n",
        "\n",
        "# ----------------------\n",
        "# Evaluation Metric (WMAE)\n",
        "# ----------------------\n",
        "def weighted_mae(y_true, y_pred, is_holiday):\n",
        "    weights = np.where(is_holiday, 5, 1)\n",
        "    return np.sum(weights * np.abs(y_true - y_pred)) / np.sum(weights)\n",
        "\n",
        "# ----------------------\n",
        "# Custom Transformers\n",
        "# ----------------------\n",
        "class DataMerger(BaseEstimator, TransformerMixin):\n",
        "    def __init__(self, features_df, stores_df):\n",
        "        self.features_df = features_df\n",
        "        self.stores_df = stores_df\n",
        "\n",
        "    def fit(self, X, y=None):\n",
        "        return self\n",
        "\n",
        "    def transform(self, X):\n",
        "        X = X.copy()\n",
        "        X = X.merge(self.features_df, on=['Store', 'Date'], how='inner')\n",
        "        X = X.merge(self.stores_df, on='Store', how='inner')\n",
        "        return X\n",
        "\n",
        "class DataCleaner(BaseEstimator, TransformerMixin):\n",
        "    def __init__(self):\n",
        "        self.q_low = None\n",
        "        self.q_high = None\n",
        "\n",
        "    def fit(self, X, y=None):\n",
        "        if 'Weekly_Sales' in X.columns:\n",
        "            self.q_low = X[\"Weekly_Sales\"].quantile(0.01)\n",
        "            self.q_high = X[\"Weekly_Sales\"].quantile(0.99)\n",
        "        return self\n",
        "\n",
        "    def transform(self, X):\n",
        "        X = X.copy()\n",
        "\n",
        "        # Fix column naming issues\n",
        "        X[\"IsHoliday\"] = X.pop(\"IsHoliday_x\") if \"IsHoliday_x\" in X else X[\"IsHoliday\"]\n",
        "        X.drop(columns=[\"IsHoliday_y\"], errors='ignore', inplace=True)\n",
        "\n",
        "        # Convert date and sort\n",
        "        X[\"Date\"] = pd.to_datetime(X[\"Date\"])\n",
        "        X = X.sort_values(by=\"Date\")\n",
        "\n",
        "        # Filter positive sales (only for training data)\n",
        "        if 'Weekly_Sales' in X.columns:\n",
        "            X = X[X[\"Weekly_Sales\"] > 0]\n",
        "\n",
        "            # Remove outliers using fitted quantiles\n",
        "            if self.q_low is not None and self.q_high is not None:\n",
        "                X = X[(X[\"Weekly_Sales\"] >= self.q_low) & (X[\"Weekly_Sales\"] <= self.q_high)]\n",
        "\n",
        "        return X\n",
        "\n",
        "class FeatureEngineer(BaseEstimator, TransformerMixin):\n",
        "    def __init__(self):\n",
        "        pass\n",
        "\n",
        "    def fit(self, X, y=None):\n",
        "        return self\n",
        "\n",
        "    def transform(self, X):\n",
        "        X = X.copy()\n",
        "\n",
        "        # Lag features (only if Weekly_Sales exists)\n",
        "        if 'Weekly_Sales' in X.columns:\n",
        "            for lag in [1, 2, 4, 52]:\n",
        "                X[f\"lag_{lag}\"] = X.groupby(\"Store\")[\"Weekly_Sales\"].shift(lag)\n",
        "\n",
        "            # Rolling statistics\n",
        "            X[\"rolling_mean_4\"] = X.groupby(\"Store\")[\"Weekly_Sales\"].shift(1).rolling(window=4).mean()\n",
        "            X[\"rolling_std_4\"] = X.groupby(\"Store\")[\"Weekly_Sales\"].shift(1).rolling(window=4).std()\n",
        "\n",
        "        # Fill missing MarkDowns\n",
        "        markdown_cols = [col for col in X.columns if \"MarkDown\" in col]\n",
        "        X[markdown_cols] = X[markdown_cols].fillna(0)\n",
        "\n",
        "        # Date features\n",
        "        X[\"Year\"] = X[\"Date\"].dt.year\n",
        "        X[\"Month\"] = X[\"Date\"].dt.month\n",
        "        X[\"Week\"] = X[\"Date\"].dt.isocalendar().week\n",
        "        X[\"DayOfWeek\"] = X[\"Date\"].dt.dayofweek\n",
        "        X[\"IsMonthStart\"] = X[\"Date\"].dt.is_month_start.astype(int)\n",
        "        X[\"IsMonthEnd\"] = X[\"Date\"].dt.is_month_end.astype(int)\n",
        "        X[\"Quarter\"] = X[\"Date\"].dt.quarter\n",
        "\n",
        "        # Drop Date column\n",
        "        X.drop(columns=[\"Date\"], inplace=True)\n",
        "\n",
        "        return X\n",
        "\n",
        "class MissingValueHandler(BaseEstimator, TransformerMixin):\n",
        "    def __init__(self):\n",
        "        self.fill_values = {}\n",
        "        pass\n",
        "\n",
        "    def fit(self, X, y=None):\n",
        "        # Store mean values for numerical columns\n",
        "        numeric_cols = X.select_dtypes(include=[np.number]).columns\n",
        "        for col in numeric_cols:\n",
        "            if X[col].isnull().any():\n",
        "                self.fill_values[col] = X[col].mean()\n",
        "        return self\n",
        "\n",
        "    def transform(self, X):\n",
        "        X = X.copy()\n",
        "\n",
        "        # Fill numerical columns with stored means\n",
        "        for col, fill_value in self.fill_values.items():\n",
        "            if col in X.columns:\n",
        "                X[col] = X[col].fillna(fill_value)\n",
        "\n",
        "        # Drop rows with any remaining missing values (from lag features)\n",
        "        X = X.dropna()\n",
        "\n",
        "        return X\n",
        "\n",
        "class FeatureSelector(BaseEstimator, TransformerMixin):\n",
        "    def __init__(self):\n",
        "        self.numeric_cols = []\n",
        "        self.categorical_cols = []\n",
        "\n",
        "    def fit(self, X, y=None):\n",
        "        self.numeric_cols = X.select_dtypes(include=np.number).columns.tolist()\n",
        "        self.categorical_cols = X.select_dtypes(include=[\"object\", \"category\", \"bool\"]).columns.tolist()\n",
        "        return self\n",
        "\n",
        "    def transform(self, X):\n",
        "        # This transformer just passes through the data but stores column info\n",
        "        return X\n",
        "\n",
        "    def get_feature_names_out(self):\n",
        "        return self.numeric_cols, self.categorical_cols"
      ],
      "metadata": {
        "id": "XVJa-QxZf4w0"
      },
      "id": "XVJa-QxZf4w0",
      "execution_count": 23,
      "outputs": []
    },
    {
      "cell_type": "code",
      "source": [
        "# from sklearn.pipeline import Pipeline\n",
        "# from lightgbm import LGBMRegressor\n",
        "\n",
        "# full_pipeline = Pipeline([\n",
        "#     ('merger', DataMerger(features_df, stores_df)),\n",
        "#     ('cleaner', DataCleaner()),\n",
        "#     ('feature_engineer', FeatureEngineer()),\n",
        "#     ('missing_handler', MissingValueHandler()),\n",
        "#     ('feature_selector', FeatureSelector()),\n",
        "#     ('model', LGBMRegressor(\n",
        "#         n_estimators=800,\n",
        "#         max_depth=-1,\n",
        "#         learning_rate=0.1,\n",
        "#         random_state=42,\n",
        "#         n_jobs=-1,\n",
        "#         num_leaves=63\n",
        "#     ))\n",
        "# ])\n",
        "\n",
        "# Define preprocessing after FeatureSelector\n",
        "preprocessor = ColumnTransformer(\n",
        "    transformers=[\n",
        "        (\"num\", \"passthrough\", []),  # to be filled after fit\n",
        "        (\"cat\", OneHotEncoder(handle_unknown=\"ignore\"), [])\n",
        "    ]\n",
        ")\n",
        "\n",
        "# Full pipeline with preprocessing + model\n",
        "full_pipeline = Pipeline([\n",
        "    ('merger', DataMerger(features_df, stores_df)),\n",
        "    ('cleaner', DataCleaner()),\n",
        "    ('feature_engineer', FeatureEngineer()),\n",
        "    ('missing_handler', MissingValueHandler()),\n",
        "    ('feature_selector', FeatureSelector()),  # No transform here\n",
        "    ('preprocessor', preprocessor),          # You’ll configure this dynamically\n",
        "    ('model', LGBMRegressor(\n",
        "        n_estimators=800,\n",
        "        max_depth=-1,\n",
        "        learning_rate=0.1,\n",
        "        random_state=42,\n",
        "        n_jobs=-1,\n",
        "        num_leaves=63\n",
        "    ))\n",
        "])\n"
      ],
      "metadata": {
        "id": "qTTlCDtrgvE8"
      },
      "id": "qTTlCDtrgvE8",
      "execution_count": 25,
      "outputs": []
    },
    {
      "cell_type": "code",
      "source": [
        "# Run until feature selector\n",
        "X_tmp = X_train.copy()\n",
        "for name, step in full_pipeline.steps[:-3]:  # Up to feature_selector\n",
        "    X_tmp = step.fit_transform(X_tmp)\n",
        "\n",
        "# Get selected columns\n",
        "numeric_cols = X_tmp.select_dtypes(include=np.number).columns.tolist()\n",
        "categorical_cols = X_tmp.select_dtypes(include=[\"object\", \"bool\", \"category\"]).columns.tolist()\n",
        "\n",
        "# Set correct columns for preprocessor\n",
        "full_pipeline.named_steps['preprocessor'].transformers[0] = (\"num\", \"passthrough\", numeric_cols)\n",
        "full_pipeline.named_steps['preprocessor'].transformers[1] = (\"cat\", OneHotEncoder(handle_unknown=\"ignore\"), categorical_cols)\n"
      ],
      "metadata": {
        "id": "54OvdlYfngIl"
      },
      "id": "54OvdlYfngIl",
      "execution_count": 27,
      "outputs": []
    },
    {
      "cell_type": "code",
      "source": [
        "df = train_df.copy()\n",
        "X = df.drop(columns=[\"Weekly_Sales\"])\n",
        "y = df[\"Weekly_Sales\"]\n",
        "\n",
        "\n",
        "# Split\n",
        "X_train, X_test, y_train, y_test = train_test_split(\n",
        "    X, y, test_size=0.2, random_state=42\n",
        ")\n",
        "\n",
        "with mlflow.start_run(run_name=\"LGBM_Training\"):\n",
        "\n",
        "  full_pipeline.fit(X_train, y_train)\n",
        "\n",
        "  y_pred = full_pipeline.predict(X_test)\n",
        "  is_holiday = X_test[\"IsHoliday\"].astype(bool).values  # Needed for WMAE\n",
        "\n",
        "  wmae_score = weighted_mae(y_test.values, y_pred, is_holiday)\n",
        "  mae_score = mean_absolute_error(y_test.values, y_pred)\n",
        "\n",
        "  mlflow.log_metric(\"WMAE\", wmae_score)\n",
        "  mlflow.log_metric(\"MAE\", mae_score)\n",
        "\n",
        "  model = full_pipeline.named_steps[\"model\"]\n",
        "  mlflow.log_params({\n",
        "      \"n_estimators\": model.n_estimators,\n",
        "      \"max_depth\": model.max_depth,\n",
        "      \"learning_rate\": model.learning_rate,\n",
        "      \"num_leaves\": model.num_leaves\n",
        "  })\n",
        "\n",
        "  mlflow.sklearn.log_model(full_pipeline, \"model_pipeline\")\n",
        "\n",
        "\n",
        "  print(f\"WMAE: {wmae_score:.4f}\")"
      ],
      "metadata": {
        "id": "dQummfjikFi1",
        "outputId": "53bb32e9-4c20-45da-aada-9854c322fea7",
        "colab": {
          "base_uri": "https://localhost:8080/",
          "height": 512
        }
      },
      "id": "dQummfjikFi1",
      "execution_count": 28,
      "outputs": [
        {
          "output_type": "stream",
          "name": "stdout",
          "text": [
            "[LightGBM] [Info] Auto-choosing row-wise multi-threading, the overhead of testing was 0.038281 seconds.\n",
            "You can set `force_row_wise=true` to remove the overhead.\n",
            "And if memory is not enough, you can set `force_col_wise=true`.\n",
            "[LightGBM] [Info] Total Bins 2542\n",
            "[LightGBM] [Info] Number of data points in the train set: 337256, number of used features: 23\n",
            "[LightGBM] [Info] Start training from score 15979.221909\n"
          ]
        },
        {
          "output_type": "stream",
          "name": "stderr",
          "text": [
            "2025/07/31 08:34:41 WARNING mlflow.models.model: `artifact_path` is deprecated. Please use `name` instead.\n"
          ]
        },
        {
          "output_type": "stream",
          "name": "stdout",
          "text": [
            "🏃 View run LGBM_Training at: https://dagshub.com/ekvirika/WalmartRecruiting.mlflow/#/experiments/0/runs/675548326c054866bdef13871866f3ef\n",
            "🧪 View experiment at: https://dagshub.com/ekvirika/WalmartRecruiting.mlflow/#/experiments/0\n"
          ]
        },
        {
          "output_type": "error",
          "ename": "RestException",
          "evalue": "INTERNAL_ERROR: Response: {'error': 'unsupported endpoint, please contact support@dagshub.com'}",
          "traceback": [
            "\u001b[0;31m---------------------------------------------------------------------------\u001b[0m",
            "\u001b[0;31mRestException\u001b[0m                             Traceback (most recent call last)",
            "\u001b[0;32m/tmp/ipython-input-4212297456.py\u001b[0m in \u001b[0;36m<cell line: 0>\u001b[0;34m()\u001b[0m\n\u001b[1;32m     30\u001b[0m   })\n\u001b[1;32m     31\u001b[0m \u001b[0;34m\u001b[0m\u001b[0m\n\u001b[0;32m---> 32\u001b[0;31m   \u001b[0mmlflow\u001b[0m\u001b[0;34m.\u001b[0m\u001b[0msklearn\u001b[0m\u001b[0;34m.\u001b[0m\u001b[0mlog_model\u001b[0m\u001b[0;34m(\u001b[0m\u001b[0mfull_pipeline\u001b[0m\u001b[0;34m,\u001b[0m \u001b[0;34m\"model_pipeline\"\u001b[0m\u001b[0;34m)\u001b[0m\u001b[0;34m\u001b[0m\u001b[0;34m\u001b[0m\u001b[0m\n\u001b[0m\u001b[1;32m     33\u001b[0m \u001b[0;34m\u001b[0m\u001b[0m\n\u001b[1;32m     34\u001b[0m \u001b[0;34m\u001b[0m\u001b[0m\n",
            "\u001b[0;32m/usr/local/lib/python3.11/dist-packages/mlflow/sklearn/__init__.py\u001b[0m in \u001b[0;36mlog_model\u001b[0;34m(sk_model, artifact_path, conda_env, code_paths, serialization_format, registered_model_name, signature, input_example, await_registration_for, pip_requirements, extra_pip_requirements, pyfunc_predict_fn, metadata, params, tags, model_type, step, model_id, name)\u001b[0m\n\u001b[1;32m    424\u001b[0m \u001b[0;34m\u001b[0m\u001b[0m\n\u001b[1;32m    425\u001b[0m     \"\"\"\n\u001b[0;32m--> 426\u001b[0;31m     return Model.log(\n\u001b[0m\u001b[1;32m    427\u001b[0m         \u001b[0martifact_path\u001b[0m\u001b[0;34m=\u001b[0m\u001b[0martifact_path\u001b[0m\u001b[0;34m,\u001b[0m\u001b[0;34m\u001b[0m\u001b[0;34m\u001b[0m\u001b[0m\n\u001b[1;32m    428\u001b[0m         \u001b[0mname\u001b[0m\u001b[0;34m=\u001b[0m\u001b[0mname\u001b[0m\u001b[0;34m,\u001b[0m\u001b[0;34m\u001b[0m\u001b[0;34m\u001b[0m\u001b[0m\n",
            "\u001b[0;32m/usr/local/lib/python3.11/dist-packages/mlflow/models/model.py\u001b[0m in \u001b[0;36mlog\u001b[0;34m(cls, artifact_path, flavor, registered_model_name, await_registration_for, metadata, run_id, resources, auth_policy, prompts, name, model_type, params, tags, step, model_id, **kwargs)\u001b[0m\n\u001b[1;32m   1159\u001b[0m                     \u001b[0;34m**\u001b[0m\u001b[0;34m(\u001b[0m\u001b[0mclient\u001b[0m\u001b[0;34m.\u001b[0m\u001b[0mget_run\u001b[0m\u001b[0;34m(\u001b[0m\u001b[0mrun_id\u001b[0m\u001b[0;34m)\u001b[0m\u001b[0;34m.\u001b[0m\u001b[0mdata\u001b[0m\u001b[0;34m.\u001b[0m\u001b[0mparams\u001b[0m \u001b[0;32mif\u001b[0m \u001b[0mrun_id\u001b[0m \u001b[0;32melse\u001b[0m \u001b[0;34m{\u001b[0m\u001b[0;34m}\u001b[0m\u001b[0;34m)\u001b[0m\u001b[0;34m,\u001b[0m\u001b[0;34m\u001b[0m\u001b[0;34m\u001b[0m\u001b[0m\n\u001b[1;32m   1160\u001b[0m                 }\n\u001b[0;32m-> 1161\u001b[0;31m                 model = mlflow.initialize_logged_model(\n\u001b[0m\u001b[1;32m   1162\u001b[0m                     \u001b[0;31m# TODO: Update model name\u001b[0m\u001b[0;34m\u001b[0m\u001b[0;34m\u001b[0m\u001b[0m\n\u001b[1;32m   1163\u001b[0m                     \u001b[0mname\u001b[0m\u001b[0;34m=\u001b[0m\u001b[0mname\u001b[0m\u001b[0;34m,\u001b[0m\u001b[0;34m\u001b[0m\u001b[0;34m\u001b[0m\u001b[0m\n",
            "\u001b[0;32m/usr/local/lib/python3.11/dist-packages/mlflow/tracking/fluent.py\u001b[0m in \u001b[0;36minitialize_logged_model\u001b[0;34m(name, source_run_id, tags, params, model_type, experiment_id)\u001b[0m\n\u001b[1;32m   2128\u001b[0m         \u001b[0mA\u001b[0m \u001b[0mnew\u001b[0m \u001b[0;34m:\u001b[0m\u001b[0mpy\u001b[0m\u001b[0;34m:\u001b[0m\u001b[0;32mclass\u001b[0m\u001b[0;34m:\u001b[0m\u001b[0;31m`\u001b[0m\u001b[0mmlflow\u001b[0m\u001b[0;34m.\u001b[0m\u001b[0mentities\u001b[0m\u001b[0;34m.\u001b[0m\u001b[0mLoggedModel\u001b[0m\u001b[0;31m`\u001b[0m \u001b[0mobject\u001b[0m \u001b[0;32mwith\u001b[0m \u001b[0mstatus\u001b[0m\u001b[0;31m \u001b[0m\u001b[0;31m`\u001b[0m\u001b[0;31m`\u001b[0m\u001b[0mPENDING\u001b[0m\u001b[0;31m`\u001b[0m\u001b[0;31m`\u001b[0m\u001b[0;34m.\u001b[0m\u001b[0;34m\u001b[0m\u001b[0;34m\u001b[0m\u001b[0m\n\u001b[1;32m   2129\u001b[0m     \"\"\"\n\u001b[0;32m-> 2130\u001b[0;31m     model = _create_logged_model(\n\u001b[0m\u001b[1;32m   2131\u001b[0m         \u001b[0mname\u001b[0m\u001b[0;34m=\u001b[0m\u001b[0mname\u001b[0m\u001b[0;34m,\u001b[0m\u001b[0;34m\u001b[0m\u001b[0;34m\u001b[0m\u001b[0m\n\u001b[1;32m   2132\u001b[0m         \u001b[0msource_run_id\u001b[0m\u001b[0;34m=\u001b[0m\u001b[0msource_run_id\u001b[0m\u001b[0;34m,\u001b[0m\u001b[0;34m\u001b[0m\u001b[0;34m\u001b[0m\u001b[0m\n",
            "\u001b[0;32m/usr/local/lib/python3.11/dist-packages/mlflow/tracking/fluent.py\u001b[0m in \u001b[0;36m_create_logged_model\u001b[0;34m(name, source_run_id, tags, params, model_type, experiment_id)\u001b[0m\n\u001b[1;32m   2255\u001b[0m         )\n\u001b[1;32m   2256\u001b[0m     \u001b[0mresolved_tags\u001b[0m \u001b[0;34m=\u001b[0m \u001b[0mcontext_registry\u001b[0m\u001b[0;34m.\u001b[0m\u001b[0mresolve_tags\u001b[0m\u001b[0;34m(\u001b[0m\u001b[0mtags\u001b[0m\u001b[0;34m)\u001b[0m\u001b[0;34m\u001b[0m\u001b[0;34m\u001b[0m\u001b[0m\n\u001b[0;32m-> 2257\u001b[0;31m     return MlflowClient().create_logged_model(\n\u001b[0m\u001b[1;32m   2258\u001b[0m         \u001b[0mexperiment_id\u001b[0m\u001b[0;34m=\u001b[0m\u001b[0mexperiment_id\u001b[0m\u001b[0;34m,\u001b[0m\u001b[0;34m\u001b[0m\u001b[0;34m\u001b[0m\u001b[0m\n\u001b[1;32m   2259\u001b[0m         \u001b[0mname\u001b[0m\u001b[0;34m=\u001b[0m\u001b[0mname\u001b[0m\u001b[0;34m,\u001b[0m\u001b[0;34m\u001b[0m\u001b[0;34m\u001b[0m\u001b[0m\n",
            "\u001b[0;32m/usr/local/lib/python3.11/dist-packages/mlflow/tracking/client.py\u001b[0m in \u001b[0;36mcreate_logged_model\u001b[0;34m(self, experiment_id, name, source_run_id, tags, params, model_type)\u001b[0m\n\u001b[1;32m   5367\u001b[0m             \u001b[0mThe\u001b[0m \u001b[0mcreated\u001b[0m \u001b[0mmodel\u001b[0m\u001b[0;34m.\u001b[0m\u001b[0;34m\u001b[0m\u001b[0;34m\u001b[0m\u001b[0m\n\u001b[1;32m   5368\u001b[0m         \"\"\"\n\u001b[0;32m-> 5369\u001b[0;31m         return self._tracking_client.create_logged_model(\n\u001b[0m\u001b[1;32m   5370\u001b[0m             \u001b[0mexperiment_id\u001b[0m\u001b[0;34m,\u001b[0m \u001b[0mname\u001b[0m\u001b[0;34m,\u001b[0m \u001b[0msource_run_id\u001b[0m\u001b[0;34m,\u001b[0m \u001b[0mtags\u001b[0m\u001b[0;34m,\u001b[0m \u001b[0mparams\u001b[0m\u001b[0;34m,\u001b[0m \u001b[0mmodel_type\u001b[0m\u001b[0;34m\u001b[0m\u001b[0;34m\u001b[0m\u001b[0m\n\u001b[1;32m   5371\u001b[0m         )\n",
            "\u001b[0;32m/usr/local/lib/python3.11/dist-packages/mlflow/tracking/_tracking_service/client.py\u001b[0m in \u001b[0;36mcreate_logged_model\u001b[0;34m(self, experiment_id, name, source_run_id, tags, params, model_type)\u001b[0m\n\u001b[1;32m    822\u001b[0m         \u001b[0mmodel_type\u001b[0m\u001b[0;34m:\u001b[0m \u001b[0mOptional\u001b[0m\u001b[0;34m[\u001b[0m\u001b[0mstr\u001b[0m\u001b[0;34m]\u001b[0m \u001b[0;34m=\u001b[0m \u001b[0;32mNone\u001b[0m\u001b[0;34m,\u001b[0m\u001b[0;34m\u001b[0m\u001b[0;34m\u001b[0m\u001b[0m\n\u001b[1;32m    823\u001b[0m     ) -> LoggedModel:\n\u001b[0;32m--> 824\u001b[0;31m         return self.store.create_logged_model(\n\u001b[0m\u001b[1;32m    825\u001b[0m             \u001b[0mexperiment_id\u001b[0m\u001b[0;34m=\u001b[0m\u001b[0mexperiment_id\u001b[0m\u001b[0;34m,\u001b[0m\u001b[0;34m\u001b[0m\u001b[0;34m\u001b[0m\u001b[0m\n\u001b[1;32m    826\u001b[0m             \u001b[0mname\u001b[0m\u001b[0;34m=\u001b[0m\u001b[0mname\u001b[0m\u001b[0;34m,\u001b[0m\u001b[0;34m\u001b[0m\u001b[0;34m\u001b[0m\u001b[0m\n",
            "\u001b[0;32m/usr/local/lib/python3.11/dist-packages/mlflow/store/tracking/rest_store.py\u001b[0m in \u001b[0;36mcreate_logged_model\u001b[0;34m(self, experiment_id, name, source_run_id, tags, params, model_type)\u001b[0m\n\u001b[1;32m    934\u001b[0m         )\n\u001b[1;32m    935\u001b[0m \u001b[0;34m\u001b[0m\u001b[0m\n\u001b[0;32m--> 936\u001b[0;31m         \u001b[0mresponse_proto\u001b[0m \u001b[0;34m=\u001b[0m \u001b[0mself\u001b[0m\u001b[0;34m.\u001b[0m\u001b[0m_call_endpoint\u001b[0m\u001b[0;34m(\u001b[0m\u001b[0mCreateLoggedModel\u001b[0m\u001b[0;34m,\u001b[0m \u001b[0mreq_body\u001b[0m\u001b[0;34m)\u001b[0m\u001b[0;34m\u001b[0m\u001b[0;34m\u001b[0m\u001b[0m\n\u001b[0m\u001b[1;32m    937\u001b[0m         \u001b[0mmodel\u001b[0m \u001b[0;34m=\u001b[0m \u001b[0mLoggedModel\u001b[0m\u001b[0;34m.\u001b[0m\u001b[0mfrom_proto\u001b[0m\u001b[0;34m(\u001b[0m\u001b[0mresponse_proto\u001b[0m\u001b[0;34m.\u001b[0m\u001b[0mmodel\u001b[0m\u001b[0;34m)\u001b[0m\u001b[0;34m\u001b[0m\u001b[0;34m\u001b[0m\u001b[0m\n\u001b[1;32m    938\u001b[0m \u001b[0;34m\u001b[0m\u001b[0m\n",
            "\u001b[0;32m/usr/local/lib/python3.11/dist-packages/mlflow/store/tracking/rest_store.py\u001b[0m in \u001b[0;36m_call_endpoint\u001b[0;34m(self, api, json_body, endpoint, retry_timeout_seconds)\u001b[0m\n\u001b[1;32m    133\u001b[0m             \u001b[0mendpoint\u001b[0m\u001b[0;34m,\u001b[0m \u001b[0mmethod\u001b[0m \u001b[0;34m=\u001b[0m \u001b[0m_METHOD_TO_INFO\u001b[0m\u001b[0;34m[\u001b[0m\u001b[0mapi\u001b[0m\u001b[0;34m]\u001b[0m\u001b[0;34m\u001b[0m\u001b[0;34m\u001b[0m\u001b[0m\n\u001b[1;32m    134\u001b[0m         \u001b[0mresponse_proto\u001b[0m \u001b[0;34m=\u001b[0m \u001b[0mapi\u001b[0m\u001b[0;34m.\u001b[0m\u001b[0mResponse\u001b[0m\u001b[0;34m(\u001b[0m\u001b[0;34m)\u001b[0m\u001b[0;34m\u001b[0m\u001b[0;34m\u001b[0m\u001b[0m\n\u001b[0;32m--> 135\u001b[0;31m         return call_endpoint(\n\u001b[0m\u001b[1;32m    136\u001b[0m             \u001b[0mself\u001b[0m\u001b[0;34m.\u001b[0m\u001b[0mget_host_creds\u001b[0m\u001b[0;34m(\u001b[0m\u001b[0;34m)\u001b[0m\u001b[0;34m,\u001b[0m\u001b[0;34m\u001b[0m\u001b[0;34m\u001b[0m\u001b[0m\n\u001b[1;32m    137\u001b[0m             \u001b[0mendpoint\u001b[0m\u001b[0;34m,\u001b[0m\u001b[0;34m\u001b[0m\u001b[0;34m\u001b[0m\u001b[0m\n",
            "\u001b[0;32m/usr/local/lib/python3.11/dist-packages/mlflow/utils/rest_utils.py\u001b[0m in \u001b[0;36mcall_endpoint\u001b[0;34m(host_creds, endpoint, method, json_body, response_proto, extra_headers, retry_timeout_seconds)\u001b[0m\n\u001b[1;32m    592\u001b[0m         \u001b[0mresponse\u001b[0m \u001b[0;34m=\u001b[0m \u001b[0mhttp_request\u001b[0m\u001b[0;34m(\u001b[0m\u001b[0;34m**\u001b[0m\u001b[0mcall_kwargs\u001b[0m\u001b[0;34m)\u001b[0m\u001b[0;34m\u001b[0m\u001b[0;34m\u001b[0m\u001b[0m\n\u001b[1;32m    593\u001b[0m \u001b[0;34m\u001b[0m\u001b[0m\n\u001b[0;32m--> 594\u001b[0;31m     \u001b[0mresponse\u001b[0m \u001b[0;34m=\u001b[0m \u001b[0mverify_rest_response\u001b[0m\u001b[0;34m(\u001b[0m\u001b[0mresponse\u001b[0m\u001b[0;34m,\u001b[0m \u001b[0mendpoint\u001b[0m\u001b[0;34m)\u001b[0m\u001b[0;34m\u001b[0m\u001b[0;34m\u001b[0m\u001b[0m\n\u001b[0m\u001b[1;32m    595\u001b[0m     \u001b[0mresponse_to_parse\u001b[0m \u001b[0;34m=\u001b[0m \u001b[0mresponse\u001b[0m\u001b[0;34m.\u001b[0m\u001b[0mtext\u001b[0m\u001b[0;34m\u001b[0m\u001b[0;34m\u001b[0m\u001b[0m\n\u001b[1;32m    596\u001b[0m     \u001b[0;32mtry\u001b[0m\u001b[0;34m:\u001b[0m\u001b[0;34m\u001b[0m\u001b[0;34m\u001b[0m\u001b[0m\n",
            "\u001b[0;32m/usr/local/lib/python3.11/dist-packages/mlflow/utils/rest_utils.py\u001b[0m in \u001b[0;36mverify_rest_response\u001b[0;34m(response, endpoint)\u001b[0m\n\u001b[1;32m    306\u001b[0m     \u001b[0;32mif\u001b[0m \u001b[0mresponse\u001b[0m\u001b[0;34m.\u001b[0m\u001b[0mstatus_code\u001b[0m \u001b[0;34m!=\u001b[0m \u001b[0;36m200\u001b[0m\u001b[0;34m:\u001b[0m\u001b[0;34m\u001b[0m\u001b[0;34m\u001b[0m\u001b[0m\n\u001b[1;32m    307\u001b[0m         \u001b[0;32mif\u001b[0m \u001b[0m_can_parse_as_json_object\u001b[0m\u001b[0;34m(\u001b[0m\u001b[0mresponse\u001b[0m\u001b[0;34m.\u001b[0m\u001b[0mtext\u001b[0m\u001b[0;34m)\u001b[0m\u001b[0;34m:\u001b[0m\u001b[0;34m\u001b[0m\u001b[0;34m\u001b[0m\u001b[0m\n\u001b[0;32m--> 308\u001b[0;31m             \u001b[0;32mraise\u001b[0m \u001b[0mRestException\u001b[0m\u001b[0;34m(\u001b[0m\u001b[0mjson\u001b[0m\u001b[0;34m.\u001b[0m\u001b[0mloads\u001b[0m\u001b[0;34m(\u001b[0m\u001b[0mresponse\u001b[0m\u001b[0;34m.\u001b[0m\u001b[0mtext\u001b[0m\u001b[0;34m)\u001b[0m\u001b[0;34m)\u001b[0m\u001b[0;34m\u001b[0m\u001b[0;34m\u001b[0m\u001b[0m\n\u001b[0m\u001b[1;32m    309\u001b[0m         \u001b[0;32melse\u001b[0m\u001b[0;34m:\u001b[0m\u001b[0;34m\u001b[0m\u001b[0;34m\u001b[0m\u001b[0m\n\u001b[1;32m    310\u001b[0m             base_msg = (\n",
            "\u001b[0;31mRestException\u001b[0m: INTERNAL_ERROR: Response: {'error': 'unsupported endpoint, please contact support@dagshub.com'}"
          ]
        }
      ]
    },
    {
      "cell_type": "code",
      "source": [],
      "metadata": {
        "id": "GNlvSVUmmpGi"
      },
      "id": "GNlvSVUmmpGi",
      "execution_count": null,
      "outputs": []
    }
  ],
  "metadata": {
    "language_info": {
      "name": "python"
    },
    "colab": {
      "provenance": [],
      "include_colab_link": true
    },
    "kernelspec": {
      "name": "python3",
      "display_name": "Python 3"
    }
  },
  "nbformat": 4,
  "nbformat_minor": 5
}