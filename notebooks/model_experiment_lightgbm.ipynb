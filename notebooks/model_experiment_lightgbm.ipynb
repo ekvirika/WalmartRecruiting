{
  "cells": [
    {
      "cell_type": "markdown",
      "metadata": {
        "id": "view-in-github",
        "colab_type": "text"
      },
      "source": [
        "<a href=\"https://colab.research.google.com/github/ekvirika/WalmartRecruiting/blob/main/notebooks/model_experiment_lightgbm.ipynb\" target=\"_parent\"><img src=\"https://colab.research.google.com/assets/colab-badge.svg\" alt=\"Open In Colab\"/></a>"
      ]
    },
    {
      "cell_type": "code",
      "execution_count": 6,
      "id": "d37ffccc",
      "metadata": {
        "id": "d37ffccc",
        "outputId": "625f19bb-079b-4a18-ec97-f5ee2cdec307",
        "colab": {
          "base_uri": "https://localhost:8080/"
        }
      },
      "outputs": [
        {
          "output_type": "stream",
          "name": "stdout",
          "text": [
            "Drive already mounted at /content/drive; to attempt to forcibly remount, call drive.mount(\"/content/drive\", force_remount=True).\n"
          ]
        }
      ],
      "source": [
        "\n",
        "from google.colab import drive\n",
        "drive.mount('/content/drive')"
      ]
    },
    {
      "cell_type": "code",
      "execution_count": 40,
      "id": "a9a063c4",
      "metadata": {
        "id": "a9a063c4",
        "outputId": "0a5f06b4-5b25-4b4c-a7b0-3affd77d93ed",
        "colab": {
          "base_uri": "https://localhost:8080/"
        }
      },
      "outputs": [
        {
          "output_type": "stream",
          "name": "stdout",
          "text": [
            "\u001b[?25l   \u001b[90m━━━━━━━━━━━━━━━━━━━━━━━━━━━━━━━━━━━━━━━━\u001b[0m \u001b[32m0.0/261.0 kB\u001b[0m \u001b[31m?\u001b[0m eta \u001b[36m-:--:--\u001b[0m\r\u001b[2K   \u001b[90m━━━━━━━━━━━━━━━━━━━━━━━━━━━━━━━━━━━━━━━━\u001b[0m \u001b[32m261.0/261.0 kB\u001b[0m \u001b[31m11.5 MB/s\u001b[0m eta \u001b[36m0:00:00\u001b[0m\n",
            "\u001b[2K   \u001b[90m━━━━━━━━━━━━━━━━━━━━━━━━━━━━━━━━━━━━━━━━\u001b[0m \u001b[32m139.9/139.9 kB\u001b[0m \u001b[31m11.0 MB/s\u001b[0m eta \u001b[36m0:00:00\u001b[0m\n",
            "\u001b[2K   \u001b[90m━━━━━━━━━━━━━━━━━━━━━━━━━━━━━━━━━━━━━━━━\u001b[0m \u001b[32m13.8/13.8 MB\u001b[0m \u001b[31m37.2 MB/s\u001b[0m eta \u001b[36m0:00:00\u001b[0m\n",
            "\u001b[2K   \u001b[90m━━━━━━━━━━━━━━━━━━━━━━━━━━━━━━━━━━━━━━━━\u001b[0m \u001b[32m50.9/50.9 kB\u001b[0m \u001b[31m3.1 MB/s\u001b[0m eta \u001b[36m0:00:00\u001b[0m\n",
            "\u001b[2K   \u001b[90m━━━━━━━━━━━━━━━━━━━━━━━━━━━━━━━━━━━━━━━━\u001b[0m \u001b[32m85.2/85.2 kB\u001b[0m \u001b[31m5.0 MB/s\u001b[0m eta \u001b[36m0:00:00\u001b[0m\n",
            "\u001b[2K   \u001b[90m━━━━━━━━━━━━━━━━━━━━━━━━━━━━━━━━━━━━━━━━\u001b[0m \u001b[32m74.3/74.3 kB\u001b[0m \u001b[31m4.1 MB/s\u001b[0m eta \u001b[36m0:00:00\u001b[0m\n",
            "\u001b[?25h"
          ]
        }
      ],
      "source": [
        "\n",
        "# Install required packages\n",
        "!pip install -q wandb torch torchvision pandas numpy matplotlib seaborn scikit-learn mlflow pytorch_lightning pytorch_forecasting\n",
        "\n",
        "# Set up Kaggle API\n",
        "!pip install -q kaggle  dagshub"
      ]
    },
    {
      "cell_type": "code",
      "execution_count": 8,
      "id": "caaec57a",
      "metadata": {
        "id": "caaec57a"
      },
      "outputs": [],
      "source": [
        "\n",
        "# Upload your kaggle.json to Colab and run:\n",
        "!mkdir -p ~/.kaggle\n",
        "!cp /content/drive/MyDrive/ColabNotebooks/kaggle_API_credentials/kaggle.json ~/.kaggle/kaggle.json\n",
        "! chmod 600 ~/.kaggle/kaggle.json\n",
        ""
      ]
    },
    {
      "cell_type": "code",
      "execution_count": 9,
      "id": "1c101c9a",
      "metadata": {
        "id": "1c101c9a",
        "outputId": "c1e2869c-b3cf-41de-96b5-6a66403fa7fe",
        "colab": {
          "base_uri": "https://localhost:8080/"
        }
      },
      "outputs": [
        {
          "output_type": "stream",
          "name": "stdout",
          "text": [
            "walmart-recruiting-store-sales-forecasting.zip: Skipping, found more recently modified local copy (use --force to force download)\n",
            "replace features.csv.zip? [y]es, [n]o, [A]ll, [N]one, [r]ename: N\n"
          ]
        }
      ],
      "source": [
        "\n",
        "# Download the dataset\n",
        "!kaggle competitions download -c walmart-recruiting-store-sales-forecasting\n",
        "!unzip -q walmart-recruiting-store-sales-forecasting.zip"
      ]
    },
    {
      "cell_type": "code",
      "execution_count": 10,
      "id": "9ea4e8ff",
      "metadata": {
        "id": "9ea4e8ff",
        "outputId": "b68e0ae2-7772-48c4-f259-8adebaa0bd34",
        "colab": {
          "base_uri": "https://localhost:8080/"
        }
      },
      "outputs": [
        {
          "output_type": "stream",
          "name": "stdout",
          "text": [
            "replace train.csv? [y]es, [n]o, [A]ll, [N]one, [r]ename: N\n",
            "unzip:  cannot find or open stores.csv.zip, stores.csv.zip.zip or stores.csv.zip.ZIP.\n",
            "replace test.csv? [y]es, [n]o, [A]ll, [N]one, [r]ename: n\n",
            "replace features.csv? [y]es, [n]o, [A]ll, [N]one, [r]ename: n\n"
          ]
        }
      ],
      "source": [
        "\n",
        "!unzip -q train.csv.zip\n",
        "!unzip -q stores.csv.zip\n",
        "!unzip -q test.csv.zip\n",
        "!unzip -q features.csv.zip\n",
        ""
      ]
    },
    {
      "cell_type": "code",
      "execution_count": 11,
      "id": "3ee4f678",
      "metadata": {
        "id": "3ee4f678"
      },
      "outputs": [],
      "source": [
        "# Walmart Store Sales Forecasting - LightGBM Model Experiment\n",
        "# ================================================================\n",
        "\n",
        "# Import necessary libraries\n",
        "import pandas as pd\n",
        "import numpy as np\n",
        "import matplotlib.pyplot as plt\n",
        "import seaborn as sns\n",
        "from datetime import datetime, timedelta\n",
        "import warnings\n",
        "warnings.filterwarnings('ignore')\n",
        "\n",
        "# Machine Learning\n",
        "import lightgbm as lgb\n",
        "from sklearn.model_selection import TimeSeriesSplit\n",
        "from sklearn.metrics import mean_absolute_error, mean_squared_error\n",
        "from sklearn.preprocessing import StandardScaler, LabelEncoder\n",
        "from sklearn.pipeline import Pipeline\n",
        "from sklearn.base import BaseEstimator, TransformerMixin\n",
        "\n",
        "# MLflow for experiment tracking\n",
        "import mlflow\n",
        "import mlflow.lightgbm\n",
        "import mlflow.sklearn\n",
        "from mlflow.tracking import MlflowClient\n",
        "\n"
      ]
    },
    {
      "cell_type": "code",
      "execution_count": 42,
      "id": "226838dc",
      "metadata": {
        "id": "226838dc",
        "outputId": "c09f6bdc-e313-49e3-d5e8-b1734c22dc15",
        "colab": {
          "base_uri": "https://localhost:8080/",
          "height": 227,
          "referenced_widgets": [
            "5dff367ae0984ca48dd64bd7d875ab06",
            "66063ecaa12b43a19b195bbed8de3c52"
          ]
        }
      },
      "outputs": [
        {
          "output_type": "display_data",
          "data": {
            "text/plain": [
              "                                       \u001b[1m❗❗❗ AUTHORIZATION REQUIRED ❗❗❗\u001b[0m                                        \n"
            ],
            "text/html": [
              "<pre style=\"white-space:pre;overflow-x:auto;line-height:normal;font-family:Menlo,'DejaVu Sans Mono',consolas,'Courier New',monospace\">                                       <span style=\"font-weight: bold\">❗❗❗ AUTHORIZATION REQUIRED ❗❗❗</span>                                        \n",
              "</pre>\n"
            ]
          },
          "metadata": {}
        },
        {
          "output_type": "display_data",
          "data": {
            "text/plain": [
              "Output()"
            ],
            "application/vnd.jupyter.widget-view+json": {
              "version_major": 2,
              "version_minor": 0,
              "model_id": "5dff367ae0984ca48dd64bd7d875ab06"
            }
          },
          "metadata": {}
        },
        {
          "output_type": "stream",
          "name": "stdout",
          "text": [
            "\n",
            "\n",
            "Open the following link in your browser to authorize the client:\n",
            "https://dagshub.com/login/oauth/authorize?state=0e2fdc90-85ce-4499-ab85-5e08e01f96f9&client_id=32b60ba385aa7cecf24046d8195a71c07dd345d9657977863b52e7748e0f0f28&middleman_request_id=4102b5d452239f2bc8c0069f967d24a4f23afb184cf1254887303ae8d0a44888\n",
            "\n",
            "\n"
          ]
        },
        {
          "output_type": "display_data",
          "data": {
            "text/plain": [],
            "text/html": [
              "<pre style=\"white-space:pre;overflow-x:auto;line-height:normal;font-family:Menlo,'DejaVu Sans Mono',consolas,'Courier New',monospace\"></pre>\n"
            ]
          },
          "metadata": {}
        },
        {
          "output_type": "display_data",
          "data": {
            "text/plain": [
              "Accessing as ekvirika\n"
            ],
            "text/html": [
              "<pre style=\"white-space:pre;overflow-x:auto;line-height:normal;font-family:Menlo,'DejaVu Sans Mono',consolas,'Courier New',monospace\">Accessing as ekvirika\n",
              "</pre>\n"
            ]
          },
          "metadata": {}
        },
        {
          "output_type": "display_data",
          "data": {
            "text/plain": [
              "Initialized MLflow to track repo \u001b[32m\"ekvirika/WalmartRecruiting\"\u001b[0m\n"
            ],
            "text/html": [
              "<pre style=\"white-space:pre;overflow-x:auto;line-height:normal;font-family:Menlo,'DejaVu Sans Mono',consolas,'Courier New',monospace\">Initialized MLflow to track repo <span style=\"color: #008000; text-decoration-color: #008000\">\"ekvirika/WalmartRecruiting\"</span>\n",
              "</pre>\n"
            ]
          },
          "metadata": {}
        },
        {
          "output_type": "display_data",
          "data": {
            "text/plain": [
              "Repository ekvirika/WalmartRecruiting initialized!\n"
            ],
            "text/html": [
              "<pre style=\"white-space:pre;overflow-x:auto;line-height:normal;font-family:Menlo,'DejaVu Sans Mono',consolas,'Courier New',monospace\">Repository ekvirika/WalmartRecruiting initialized!\n",
              "</pre>\n"
            ]
          },
          "metadata": {}
        },
        {
          "output_type": "stream",
          "name": "stdout",
          "text": [
            "ბიბლიოთეკები წარმატებით ჩაიტვირთა!\n"
          ]
        }
      ],
      "source": [
        "\n",
        "\n",
        "# # Set up MLflow\n",
        "import dagshub\n",
        "dagshub.init(repo_owner='ekvirika', repo_name='WalmartRecruiting', mlflow=True)\n",
        "print(\"ბიბლიოთეკები წარმატებით ჩაიტვირთა!\")\n"
      ]
    },
    {
      "cell_type": "code",
      "execution_count": 43,
      "id": "78074b70",
      "metadata": {
        "id": "78074b70",
        "outputId": "ff51d5b0-0a67-4f87-a34e-6851a9311347",
        "colab": {
          "base_uri": "https://localhost:8080/"
        }
      },
      "outputs": [
        {
          "output_type": "stream",
          "name": "stdout",
          "text": [
            "Train shape: (421570, 5)\n",
            "Test shape: (115064, 4)\n",
            "Features shape: (8190, 12)\n",
            "Stores shape: (45, 3)\n",
            "\n",
            "=== Train Data Info ===\n",
            "<class 'pandas.core.frame.DataFrame'>\n",
            "RangeIndex: 421570 entries, 0 to 421569\n",
            "Data columns (total 5 columns):\n",
            " #   Column        Non-Null Count   Dtype  \n",
            "---  ------        --------------   -----  \n",
            " 0   Store         421570 non-null  int64  \n",
            " 1   Dept          421570 non-null  int64  \n",
            " 2   Date          421570 non-null  object \n",
            " 3   Weekly_Sales  421570 non-null  float64\n",
            " 4   IsHoliday     421570 non-null  bool   \n",
            "dtypes: bool(1), float64(1), int64(2), object(1)\n",
            "memory usage: 13.3+ MB\n",
            "None\n",
            "\n",
            "=== Train Data Sample ===\n",
            "   Store  Dept        Date  Weekly_Sales  IsHoliday\n",
            "0      1     1  2010-02-05      24924.50      False\n",
            "1      1     1  2010-02-12      46039.49       True\n",
            "2      1     1  2010-02-19      41595.55      False\n",
            "3      1     1  2010-02-26      19403.54      False\n",
            "4      1     1  2010-03-05      21827.90      False\n",
            "\n",
            "=== Target Variable Statistics ===\n",
            "count    421570.000000\n",
            "mean      15981.258123\n",
            "std       22711.183519\n",
            "min       -4988.940000\n",
            "25%        2079.650000\n",
            "50%        7612.030000\n",
            "75%       20205.852500\n",
            "max      693099.360000\n",
            "Name: Weekly_Sales, dtype: float64\n"
          ]
        }
      ],
      "source": [
        "\n",
        "# =================================================================\n",
        "# 1. Data Loading and Initial Exploration\n",
        "# =================================================================\n",
        "\n",
        "def load_walmart_data():\n",
        "    \"\"\"Load Walmart competition data\"\"\"\n",
        "    try:\n",
        "        # Load the datasets\n",
        "        train_df = pd.read_csv('train.csv')\n",
        "        test_df = pd.read_csv('test.csv')\n",
        "        features_df = pd.read_csv('features.csv')\n",
        "        stores_df = pd.read_csv('stores.csv')\n",
        "\n",
        "        print(f\"Train shape: {train_df.shape}\")\n",
        "        print(f\"Test shape: {test_df.shape}\")\n",
        "        print(f\"Features shape: {features_df.shape}\")\n",
        "        print(f\"Stores shape: {stores_df.shape}\")\n",
        "\n",
        "        return train_df, test_df, features_df, stores_df\n",
        "\n",
        "    except FileNotFoundError as e:\n",
        "        print(f\"Error loading data: {e}\")\n",
        "        print(\"Please ensure Walmart competition data files are in the working directory\")\n",
        "        return None, None, None, None\n",
        "\n",
        "# Load data\n",
        "train_df, test_df, features_df, stores_df = load_walmart_data()\n",
        "\n",
        "if train_df is not None:\n",
        "    # Display basic info about the data\n",
        "    print(\"\\n=== Train Data Info ===\")\n",
        "    print(train_df.info())\n",
        "    print(\"\\n=== Train Data Sample ===\")\n",
        "    print(train_df.head())\n",
        "\n",
        "    print(\"\\n=== Target Variable Statistics ===\")\n",
        "    print(train_df['Weekly_Sales'].describe())\n"
      ]
    },
    {
      "cell_type": "code",
      "execution_count": 44,
      "id": "73b670dc",
      "metadata": {
        "id": "73b670dc"
      },
      "outputs": [],
      "source": [
        "\n",
        "# =================================================================\n",
        "# 2. Custom Preprocessing Pipeline\n",
        "# =================================================================\n",
        "\n",
        "class WalmartPreprocessor(BaseEstimator, TransformerMixin):\n",
        "    \"\"\"Custom preprocessor for Walmart data\"\"\"\n",
        "\n",
        "    def __init__(self):\n",
        "        self.label_encoders = {}\n",
        "        self.scalers = {}\n",
        "        self.fitted = False\n",
        "\n",
        "    def fit(self, X, y=None):\n",
        "        \"\"\"Fit the preprocessor\"\"\"\n",
        "        X = X.copy()\n",
        "\n",
        "        # Convert Date column\n",
        "        if 'Date' in X.columns:\n",
        "            X['Date'] = pd.to_datetime(X['Date'])\n",
        "\n",
        "        # Fit label encoders for categorical variables\n",
        "        categorical_cols = ['Store', 'Dept', 'Type']\n",
        "        for col in categorical_cols:\n",
        "            if col in X.columns:\n",
        "                self.label_encoders[col] = LabelEncoder()\n",
        "                self.label_encoders[col].fit(X[col].astype(str))\n",
        "\n",
        "        # Fit scalers for numerical variables\n",
        "        numerical_cols = ['Size', 'Temperature', 'Fuel_Price', 'CPI', 'Unemployment']\n",
        "        for col in numerical_cols:\n",
        "            if col in X.columns:\n",
        "                self.scalers[col] = StandardScaler()\n",
        "                self.scalers[col].fit(X[[col]])\n",
        "\n",
        "        self.fitted = True\n",
        "        return self\n",
        "\n",
        "    def transform(self, X):\n",
        "        \"\"\"Transform the data\"\"\"\n",
        "        if not self.fitted:\n",
        "            raise ValueError(\"Preprocessor must be fitted before transform\")\n",
        "\n",
        "        X = X.copy()\n",
        "\n",
        "        # Convert Date and create time features\n",
        "        if 'Date' in X.columns:\n",
        "            X['Date'] = pd.to_datetime(X['Date'])\n",
        "            X['Year'] = X['Date'].dt.year\n",
        "            X['Month'] = X['Date'].dt.month\n",
        "            X['Week'] = X['Date'].dt.isocalendar().week\n",
        "            X['Day'] = X['Date'].dt.day\n",
        "            X['DayOfWeek'] = X['Date'].dt.dayofweek\n",
        "            X['IsWeekend'] = (X['DayOfWeek'] >= 5).astype(int)\n",
        "            X['Quarter'] = X['Date'].dt.quarter\n",
        "\n",
        "            # Create cyclical features\n",
        "            X['Month_sin'] = np.sin(2 * np.pi * X['Month'] / 12)\n",
        "            X['Month_cos'] = np.cos(2 * np.pi * X['Month'] / 12)\n",
        "            X['Week_sin'] = np.sin(2 * np.pi * X['Week'] / 52)\n",
        "            X['Week_cos'] = np.cos(2 * np.pi * X['Week'] / 52)\n",
        "\n",
        "        # Handle holidays\n",
        "        if 'IsHoliday' in X.columns:\n",
        "            X['IsHoliday'] = X['IsHoliday'].astype(int)\n",
        "\n",
        "        # Apply label encoders\n",
        "        for col, encoder in self.label_encoders.items():\n",
        "            if col in X.columns:\n",
        "                X[col] = encoder.transform(X[col].astype(str))\n",
        "\n",
        "        # Apply scalers\n",
        "        for col, scaler in self.scalers.items():\n",
        "            if col in X.columns:\n",
        "                X[col] = scaler.transform(X[[col]]).flatten()\n",
        "\n",
        "        # Fill missing values\n",
        "        X = X.fillna(0)\n",
        "\n",
        "        return X\n",
        "\n"
      ]
    },
    {
      "cell_type": "code",
      "source": [
        "def create_features(train_df, test_df, features_df, stores_df):\n",
        "    \"\"\"Create comprehensive feature set\"\"\"\n",
        "\n",
        "    # Merge all datasets\n",
        "    train_full = train_df.merge(features_df, on=['Store', 'Date'], how='left')\n",
        "    train_full = train_full.merge(stores_df, on='Store', how='left')\n",
        "\n",
        "    test_full = test_df.merge(features_df, on=['Store', 'Date'], how='left')\n",
        "    test_full = test_full.merge(stores_df, on='Store', how='left')\n",
        "\n",
        "    # Create lag features for train data\n",
        "    train_full = train_full.sort_values(['Store', 'Dept', 'Date'])\n",
        "\n",
        "    # Create lag features (previous weeks sales)\n",
        "    for lag in [1, 2, 4, 8, 12]:\n",
        "        train_full[f'Sales_Lag_{lag}'] = train_full.groupby(['Store', 'Dept'])['Weekly_Sales'].shift(lag)\n",
        "\n",
        "    # Create rolling window features\n",
        "    for window in [4, 8, 12]:\n",
        "        train_full[f'Sales_RollingMean_{window}'] = train_full.groupby(['Store', 'Dept'])['Weekly_Sales'].transform(\n",
        "            lambda x: x.rolling(window=window, min_periods=1).mean()\n",
        "        )\n",
        "        train_full[f'Sales_RollingStd_{window}'] = train_full.groupby(['Store', 'Dept'])['Weekly_Sales'].transform(\n",
        "            lambda x: x.rolling(window=window, min_periods=1).std()\n",
        "        )\n",
        "\n",
        "    # Create statistical features by Store-Dept (FIXED VERSION)\n",
        "    dept_stats = train_full.groupby(['Store', 'Dept'])['Weekly_Sales'].agg(\n",
        "        Dept_Sales_Mean='mean',\n",
        "        Dept_Sales_Std='std',\n",
        "        Dept_Sales_Min='min',\n",
        "        Dept_Sales_Max='max',\n",
        "        Dept_Sales_Median='median'\n",
        "    ).reset_index()\n",
        "\n",
        "    # No need to rename columns since we named them in the agg function\n",
        "    train_full = train_full.merge(dept_stats, on=['Store', 'Dept'], how='left')\n",
        "    test_full = test_full.merge(dept_stats, on=['Store', 'Dept'], how='left')\n",
        "\n",
        "    return train_full, test_full"
      ],
      "metadata": {
        "id": "M85oatQ0RSpw"
      },
      "id": "M85oatQ0RSpw",
      "execution_count": 45,
      "outputs": []
    },
    {
      "cell_type": "code",
      "execution_count": 46,
      "id": "b39127b2",
      "metadata": {
        "id": "b39127b2",
        "outputId": "11bf32e0-6481-4579-9fd2-115b21108cd5",
        "colab": {
          "base_uri": "https://localhost:8080/"
        }
      },
      "outputs": [
        {
          "output_type": "stream",
          "name": "stdout",
          "text": [
            "მონაცემთა დამუშავება წარმატებით დასრულდა!\n"
          ]
        }
      ],
      "source": [
        "\n",
        "# =================================================================\n",
        "# 3. MLflow Data Preprocessing Run\n",
        "# =================================================================\n",
        "\n",
        "def run_data_preprocessing():\n",
        "    \"\"\"Run data preprocessing with MLflow tracking\"\"\"\n",
        "\n",
        "    with mlflow.start_run(run_name=\"LightGBM_Data_Preprocessing\"):\n",
        "        # Log parameters\n",
        "        mlflow.log_param(\"preprocessing_method\", \"custom_walmart_preprocessor\")\n",
        "        mlflow.log_param(\"feature_engineering\", True)\n",
        "        mlflow.log_param(\"lag_features\", [1, 2, 4, 8, 12])\n",
        "        mlflow.log_param(\"rolling_windows\", [4, 8, 12])\n",
        "\n",
        "        # Create features\n",
        "        train_full, test_full = create_features(train_df, test_df, features_df, stores_df)\n",
        "\n",
        "        # Log dataset info\n",
        "        mlflow.log_metric(\"train_samples\", len(train_full))\n",
        "        mlflow.log_metric(\"test_samples\", len(test_full))\n",
        "        mlflow.log_metric(\"total_features\", len(train_full.columns))\n",
        "\n",
        "        # Save processed data\n",
        "        train_full.to_csv('train_processed.csv', index=False)\n",
        "        test_full.to_csv('test_processed.csv', index=False)\n",
        "\n",
        "        print(\"მონაცემთა დამუშავება წარმატებით დასრულდა!\")\n",
        "\n",
        "        return train_full, test_full\n",
        "\n",
        "# Run preprocessing\n",
        "train_processed, test_processed = run_data_preprocessing()\n"
      ]
    },
    {
      "cell_type": "code",
      "execution_count": 47,
      "id": "80e85f2d",
      "metadata": {
        "id": "80e85f2d",
        "outputId": "23aa6d11-61d3-4239-9451-e60141d2772e",
        "colab": {
          "base_uri": "https://localhost:8080/",
          "height": 807
        }
      },
      "outputs": [
        {
          "output_type": "display_data",
          "data": {
            "text/plain": [
              "<Figure size 1000x800 with 1 Axes>"
            ],
            "image/png": "[encoded data removed]"
          },
          "metadata": {}
        }
      ],
      "source": [
        "\n",
        "# =================================================================\n",
        "# 4. Feature Selection and Engineering\n",
        "# =================================================================\n",
        "\n",
        "def run_feature_selection(train_data):\n",
        "    \"\"\"Run feature selection with MLflow tracking\"\"\"\n",
        "\n",
        "    with mlflow.start_run(run_name=\"LightGBM_Feature_Selection\"):\n",
        "\n",
        "        # Prepare features\n",
        "        feature_cols = [col for col in train_data.columns if col not in ['Weekly_Sales', 'Date']]\n",
        "\n",
        "        # Handle missing values and prepare data\n",
        "        X = train_data[feature_cols].copy()\n",
        "        y = train_data['Weekly_Sales'].copy()\n",
        "\n",
        "        # Apply preprocessing\n",
        "        preprocessor = WalmartPreprocessor()\n",
        "        X_processed = preprocessor.fit_transform(X)\n",
        "\n",
        "        # Feature importance using LightGBM\n",
        "        lgb_model = lgb.LGBMRegressor(\n",
        "            objective='regression',\n",
        "            metric='rmse',\n",
        "            n_estimators=100,\n",
        "            random_state=42,\n",
        "            verbose=-1\n",
        "        )\n",
        "\n",
        "        lgb_model.fit(X_processed, y)\n",
        "\n",
        "        # Get feature importance\n",
        "        feature_importance = pd.DataFrame({\n",
        "            'feature': feature_cols,\n",
        "            'importance': lgb_model.feature_importances_\n",
        "        }).sort_values('importance', ascending=False)\n",
        "\n",
        "        # Select top features\n",
        "        top_features = feature_importance.head(20)['feature'].tolist()\n",
        "\n",
        "        # Log parameters and metrics\n",
        "        mlflow.log_param(\"total_features\", len(feature_cols))\n",
        "        mlflow.log_param(\"selected_features\", len(top_features))\n",
        "        mlflow.log_param(\"feature_selection_method\", \"lightgbm_importance\")\n",
        "\n",
        "        # Save feature importance plot\n",
        "        plt.figure(figsize=(10, 8))\n",
        "        sns.barplot(data=feature_importance.head(20), x='importance', y='feature')\n",
        "        plt.title('Top 20 Feature Importance (LightGBM)')\n",
        "        plt.tight_layout()\n",
        "        plt.savefig('feature_importance.png', dpi=300, bbox_inches='tight')\n",
        "        mlflow.log_artifact('feature_importance.png')\n",
        "        plt.show()\n",
        "\n",
        "        return top_features, preprocessor\n",
        "\n",
        "# Run feature selection\n",
        "selected_features, preprocessor = run_feature_selection(train_processed)\n"
      ]
    },
    {
      "cell_type": "code",
      "execution_count": 48,
      "id": "c5dd3b0f",
      "metadata": {
        "id": "c5dd3b0f",
        "outputId": "33eb94ea-c8b4-4b87-d487-03e9f44cb6bc",
        "colab": {
          "base_uri": "https://localhost:8080/"
        }
      },
      "outputs": [
        {
          "metadata": {
            "tags": null
          },
          "name": "stdout",
          "output_type": "stream",
          "text": [
            "Available columns: ['Store', 'Dept', 'Date', 'Weekly_Sales', 'IsHoliday_x', 'Temperature', 'Fuel_Price', 'MarkDown1', 'MarkDown2', 'MarkDown3', 'MarkDown4', 'MarkDown5', 'CPI', 'Unemployment', 'IsHoliday_y', 'Type', 'Size', 'Sales_Lag_1', 'Sales_Lag_2', 'Sales_Lag_4', 'Sales_Lag_8', 'Sales_Lag_12', 'Sales_RollingMean_4', 'Sales_RollingStd_4', 'Sales_RollingMean_8', 'Sales_RollingStd_8', 'Sales_RollingMean_12', 'Sales_RollingStd_12', 'Dept_Sales_Mean', 'Dept_Sales_Std', 'Dept_Sales_Min', 'Dept_Sales_Max', 'Dept_Sales_Median']\n",
            "Using holiday column: IsHoliday_x\n",
            "Fold 1: RMSE = 5257.0826, MAE = 1584.9029, WMAE = 1817.9057\n",
            "Fold 2: RMSE = 2973.7617, MAE = 1255.9518, WMAE = 1392.4600\n",
            "Fold 3: RMSE = 2887.9606, MAE = 1327.4586, WMAE = 1414.5709\n",
            "Fold 4: RMSE = 2157.6880, MAE = 788.1549, WMAE = 872.9067\n",
            "Fold 5: RMSE = 1787.9670, MAE = 847.2961, WMAE = 905.0099\n",
            "\n",
            "Cross-Validation Results:\n",
            "Mean RMSE: 3012.8920 (+/- 1207.0912)\n",
            "Mean WMAE: 1280.5706\n"
          ]
        }
      ],
      "source": [
        "\n",
        "# =================================================================\n",
        "# 5. Model Training with Cross-Validation\n",
        "# =================================================================\n",
        "\n",
        "def weighted_mean_absolute_error(y_true, y_pred, weights):\n",
        "    \"\"\"Calculate weighted MAE (Walmart competition metric)\"\"\"\n",
        "    return np.average(np.abs(y_true - y_pred), weights=weights)\n",
        "\n",
        "def run_lightgbm_training(train_data, selected_features):\n",
        "    \"\"\"Run LightGBM training with cross-validation\"\"\"\n",
        "\n",
        "    with mlflow.start_run(run_name=\"LightGBM_CrossValidation\"):\n",
        "\n",
        "        # Check available columns to identify the holiday column\n",
        "        print(\"Available columns:\", train_data.columns.tolist())\n",
        "\n",
        "        # Find the holiday column (could be IsHoliday, IsHoliday_x, or IsHoliday_y)\n",
        "        holiday_col = None\n",
        "        for col in train_data.columns:\n",
        "            if 'IsHoliday' in col:\n",
        "                holiday_col = col\n",
        "                break\n",
        "\n",
        "        if holiday_col is None:\n",
        "            print(\"Warning: No holiday column found, using equal weights\")\n",
        "            weights = np.ones(len(train_data))\n",
        "        else:\n",
        "            print(f\"Using holiday column: {holiday_col}\")\n",
        "            weights = np.where(train_data[holiday_col] == 1, 5, 1)\n",
        "\n",
        "        # Prepare data\n",
        "        X = train_data[selected_features].copy()\n",
        "        y = train_data['Weekly_Sales'].copy()\n",
        "\n",
        "        # Apply preprocessing\n",
        "        X_processed = preprocessor.transform(X)\n",
        "\n",
        "        # Convert to numpy array if it's not already\n",
        "        if hasattr(X_processed, 'values'):\n",
        "            X_processed = X_processed.values\n",
        "\n",
        "        # Time series cross-validation\n",
        "        tscv = TimeSeriesSplit(n_splits=5)\n",
        "\n",
        "        # LightGBM parameters\n",
        "        lgb_params = {\n",
        "            'objective': 'regression',\n",
        "            'metric': 'rmse',\n",
        "            'boosting_type': 'gbdt',\n",
        "            'num_leaves': 31,\n",
        "            'learning_rate': 0.05,\n",
        "            'feature_fraction': 0.9,\n",
        "            'bagging_fraction': 0.8,\n",
        "            'bagging_freq': 5,\n",
        "            'verbose': -1,\n",
        "            'random_state': 42\n",
        "        }\n",
        "\n",
        "        # Log parameters\n",
        "        for param, value in lgb_params.items():\n",
        "            mlflow.log_param(f\"lgb_{param}\", value)\n",
        "\n",
        "        # Cross-validation results\n",
        "        cv_scores = []\n",
        "        cv_wmae_scores = []\n",
        "\n",
        "        for fold, (train_idx, val_idx) in enumerate(tscv.split(X_processed)):\n",
        "\n",
        "            X_train_fold, X_val_fold = X_processed[train_idx], X_processed[val_idx]\n",
        "            y_train_fold, y_val_fold = y.iloc[train_idx], y.iloc[val_idx]  # Keep pandas for y\n",
        "            weights_train = weights[train_idx]\n",
        "            weights_val = weights[val_idx]\n",
        "\n",
        "            # Train model\n",
        "            lgb_model = lgb.LGBMRegressor(**lgb_params, n_estimators=1000)\n",
        "            lgb_model.fit(\n",
        "                X_train_fold, y_train_fold,\n",
        "                eval_set=[(X_val_fold, y_val_fold)],\n",
        "                eval_metric='rmse',\n",
        "                # early_stopping_rounds=50,\n",
        "                # verbose=False\n",
        "            )\n",
        "\n",
        "            # Predictions\n",
        "            y_pred = lgb_model.predict(X_val_fold)\n",
        "\n",
        "            # Calculate metrics\n",
        "            rmse = np.sqrt(mean_squared_error(y_val_fold, y_pred))\n",
        "            mae = mean_absolute_error(y_val_fold, y_pred)\n",
        "            wmae = weighted_mean_absolute_error(y_val_fold, y_pred, weights_val)\n",
        "\n",
        "            cv_scores.append(rmse)\n",
        "            cv_wmae_scores.append(wmae)\n",
        "\n",
        "            print(f\"Fold {fold + 1}: RMSE = {rmse:.4f}, MAE = {mae:.4f}, WMAE = {wmae:.4f}\")\n",
        "\n",
        "        # Calculate mean CV scores\n",
        "        mean_cv_rmse = np.mean(cv_scores)\n",
        "        mean_cv_wmae = np.mean(cv_wmae_scores)\n",
        "        std_cv_rmse = np.std(cv_scores)\n",
        "\n",
        "        # Log metrics\n",
        "        mlflow.log_metric(\"cv_rmse_mean\", mean_cv_rmse)\n",
        "        mlflow.log_metric(\"cv_rmse_std\", std_cv_rmse)\n",
        "        mlflow.log_metric(\"cv_wmae_mean\", mean_cv_wmae)\n",
        "        mlflow.log_metric(\"n_folds\", len(cv_scores))\n",
        "\n",
        "        print(f\"\\nCross-Validation Results:\")\n",
        "        print(f\"Mean RMSE: {mean_cv_rmse:.4f} (+/- {std_cv_rmse:.4f})\")\n",
        "        print(f\"Mean WMAE: {mean_cv_wmae:.4f}\")\n",
        "\n",
        "        return mean_cv_rmse, mean_cv_wmae\n",
        "\n",
        "# Run cross-validation\n",
        "cv_rmse, cv_wmae = run_lightgbm_training(train_processed, selected_features)\n"
      ]
    },
    {
      "cell_type": "code",
      "execution_count": 49,
      "id": "239a6285",
      "metadata": {
        "id": "239a6285",
        "outputId": "91873ff4-c5e0-4bfd-d905-5f4386b9a5e4",
        "colab": {
          "base_uri": "https://localhost:8080/"
        }
      },
      "outputs": [
        {
          "metadata": {
            "tags": null
          },
          "name": "stderr",
          "output_type": "stream",
          "text": [
            "2025/07/07 19:51:57 WARNING mlflow.models.model: `artifact_path` is deprecated. Please use `name` instead.\n",
            "\u001b[31m2025/07/07 19:52:05 WARNING mlflow.models.model: Model logged without a signature and input example. Please set `input_example` parameter when logging the model to auto infer the model signature.\u001b[0m\n"
          ]
        },
        {
          "metadata": {
            "tags": null
          },
          "name": "stdout",
          "output_type": "stream",
          "text": [
            "Final Model Training Complete!\n",
            "Training RMSE: 1880.4633\n",
            "Training MAE: 986.9149\n"
          ]
        },
        {
          "metadata": {
            "tags": null
          },
          "name": "stderr",
          "output_type": "stream",
          "text": [
            "Registered model 'WalmartSales_LightGBM' already exists. Creating a new version of this model...\n",
            "Created version '2' of model 'WalmartSales_LightGBM'.\n"
          ]
        }
      ],
      "source": [
        "\n",
        "# =================================================================\n",
        "# 6. Final Model Training and Pipeline Creation\n",
        "# =================================================================\n",
        "\n",
        "def create_final_pipeline(train_data, selected_features):\n",
        "    \"\"\"Create final LightGBM pipeline\"\"\"\n",
        "\n",
        "    with mlflow.start_run(run_name=\"LightGBM_Final_Model\"):\n",
        "\n",
        "        # Prepare data\n",
        "        X = train_data[selected_features].copy()\n",
        "        y = train_data['Weekly_Sales'].copy()\n",
        "\n",
        "        # Best parameters (you can tune these further)\n",
        "        best_params = {\n",
        "            'objective': 'regression',\n",
        "            'metric': 'rmse',\n",
        "            'boosting_type': 'gbdt',\n",
        "            'num_leaves': 31,\n",
        "            'learning_rate': 0.05,\n",
        "            'feature_fraction': 0.9,\n",
        "            'bagging_fraction': 0.8,\n",
        "            'bagging_freq': 5,\n",
        "            'verbose': -1,\n",
        "            'random_state': 42,\n",
        "            'n_estimators': 1000\n",
        "        }\n",
        "\n",
        "        # Create pipeline\n",
        "        pipeline = Pipeline([\n",
        "            ('preprocessor', preprocessor),\n",
        "            ('model', lgb.LGBMRegressor(**best_params))\n",
        "        ])\n",
        "\n",
        "        # Train pipeline\n",
        "        pipeline.fit(X, y)\n",
        "\n",
        "        # Log model parameters\n",
        "        for param, value in best_params.items():\n",
        "            mlflow.log_param(f\"final_{param}\", value)\n",
        "\n",
        "        # Log final metrics\n",
        "        y_pred = pipeline.predict(X)\n",
        "        final_rmse = np.sqrt(mean_squared_error(y, y_pred))\n",
        "        final_mae = mean_absolute_error(y, y_pred)\n",
        "\n",
        "        mlflow.log_metric(\"final_train_rmse\", final_rmse)\n",
        "        mlflow.log_metric(\"final_train_mae\", final_mae)\n",
        "\n",
        "        # Log the model\n",
        "        mlflow.sklearn.log_model(\n",
        "            pipeline,\n",
        "            \"lightgbm_pipeline\",\n",
        "            registered_model_name=\"WalmartSales_LightGBM\"\n",
        "        )\n",
        "\n",
        "        print(f\"Final Model Training Complete!\")\n",
        "        print(f\"Training RMSE: {final_rmse:.4f}\")\n",
        "        print(f\"Training MAE: {final_mae:.4f}\")\n",
        "\n",
        "        return pipeline\n",
        "\n",
        "# Create final pipeline\n",
        "final_pipeline = create_final_pipeline(train_processed, selected_features)\n"
      ]
    },
    {
      "cell_type": "code",
      "execution_count": 50,
      "id": "0ed8e877",
      "metadata": {
        "id": "0ed8e877",
        "outputId": "e56f1ecb-74f5-4030-86e3-f889c490c8c6",
        "colab": {
          "base_uri": "https://localhost:8080/",
          "height": 505
        }
      },
      "outputs": [
        {
          "data": {
            "image/png": "[encoded data removed]",
            "text/plain": [
              "<Figure size 1200x500 with 2 Axes>"
            ]
          },
          "metadata": {},
          "output_type": "display_data"
        },
        {
          "metadata": {
            "tags": null
          },
          "name": "stdout",
          "output_type": "stream",
          "text": [
            "Model Evaluation Complete!\n",
            "RMSE: 1880.4633\n",
            "MAE: 986.9149\n",
            "MAPE: inf%\n"
          ]
        }
      ],
      "source": [
        "\n",
        "# =================================================================\n",
        "# 7. Model Evaluation and Validation\n",
        "# =================================================================\n",
        "\n",
        "def evaluate_model_performance(pipeline, train_data, selected_features):\n",
        "    \"\"\"Evaluate model performance with various metrics\"\"\"\n",
        "\n",
        "    with mlflow.start_run(run_name=\"LightGBM_Model_Evaluation\"):\n",
        "\n",
        "        # Prepare data\n",
        "        X = train_data[selected_features].copy()\n",
        "        y = train_data['Weekly_Sales'].copy()\n",
        "\n",
        "        # Make predictions\n",
        "        y_pred = pipeline.predict(X)\n",
        "\n",
        "        # Calculate comprehensive metrics\n",
        "        rmse = np.sqrt(mean_squared_error(y, y_pred))\n",
        "        mae = mean_absolute_error(y, y_pred)\n",
        "        mape = np.mean(np.abs((y - y_pred) / y)) * 100\n",
        "\n",
        "        # Holiday vs non-holiday performance\n",
        "        holiday_mask = train_data['IsHoliday_x'] == 1\n",
        "\n",
        "        if holiday_mask.sum() > 0:\n",
        "            holiday_rmse = np.sqrt(mean_squared_error(y[holiday_mask], y_pred[holiday_mask]))\n",
        "            non_holiday_rmse = np.sqrt(mean_squared_error(y[~holiday_mask], y_pred[~holiday_mask]))\n",
        "\n",
        "            mlflow.log_metric(\"holiday_rmse\", holiday_rmse)\n",
        "            mlflow.log_metric(\"non_holiday_rmse\", non_holiday_rmse)\n",
        "\n",
        "        # Log metrics\n",
        "        mlflow.log_metric(\"evaluation_rmse\", rmse)\n",
        "        mlflow.log_metric(\"evaluation_mae\", mae)\n",
        "        mlflow.log_metric(\"evaluation_mape\", mape)\n",
        "\n",
        "        # Create residuals plot\n",
        "        plt.figure(figsize=(12, 5))\n",
        "\n",
        "        plt.subplot(1, 2, 1)\n",
        "        plt.scatter(y, y_pred, alpha=0.5)\n",
        "        plt.plot([y.min(), y.max()], [y.min(), y.max()], 'r--', lw=2)\n",
        "        plt.xlabel('Actual Sales')\n",
        "        plt.ylabel('Predicted Sales')\n",
        "        plt.title('Actual vs Predicted Sales')\n",
        "\n",
        "        plt.subplot(1, 2, 2)\n",
        "        residuals = y - y_pred\n",
        "        plt.scatter(y_pred, residuals, alpha=0.5)\n",
        "        plt.axhline(y=0, color='r', linestyle='--')\n",
        "        plt.xlabel('Predicted Sales')\n",
        "        plt.ylabel('Residuals')\n",
        "        plt.title('Residuals Plot')\n",
        "\n",
        "        plt.tight_layout()\n",
        "        plt.savefig('model_evaluation.png', dpi=300, bbox_inches='tight')\n",
        "        mlflow.log_artifact('model_evaluation.png')\n",
        "        plt.show()\n",
        "\n",
        "        print(f\"Model Evaluation Complete!\")\n",
        "        print(f\"RMSE: {rmse:.4f}\")\n",
        "        print(f\"MAE: {mae:.4f}\")\n",
        "        print(f\"MAPE: {mape:.2f}%\")\n",
        "\n",
        "        return rmse, mae, mape\n",
        "\n",
        "# Evaluate model\n",
        "eval_rmse, eval_mae, eval_mape = evaluate_model_performance(final_pipeline, train_processed, selected_features)\n"
      ]
    },
    {
      "cell_type": "code",
      "execution_count": 51,
      "id": "cc0bbb4e",
      "metadata": {
        "id": "cc0bbb4e",
        "outputId": "51b44125-ff1e-4894-df52-11801f2550e2",
        "colab": {
          "base_uri": "https://localhost:8080/"
        }
      },
      "outputs": [
        {
          "output_type": "stream",
          "name": "stdout",
          "text": [
            "Training until validation scores don't improve for 50 rounds\n",
            "Did not meet early stopping. Best iteration is:\n",
            "[500]\tvalid_0's rmse: 4807.18\n",
            "Training until validation scores don't improve for 50 rounds\n",
            "Did not meet early stopping. Best iteration is:\n",
            "[500]\tvalid_0's rmse: 3521.76\n",
            "Training until validation scores don't improve for 50 rounds\n",
            "Did not meet early stopping. Best iteration is:\n",
            "[500]\tvalid_0's rmse: 2908.97\n",
            "Trial 1/10: CV RMSE = 3745.9392, CV WMAE = 1754.0082\n",
            "Training until validation scores don't improve for 50 rounds\n",
            "Did not meet early stopping. Best iteration is:\n",
            "[500]\tvalid_0's rmse: 4871.28\n",
            "Training until validation scores don't improve for 50 rounds\n",
            "Did not meet early stopping. Best iteration is:\n",
            "[500]\tvalid_0's rmse: 3637.28\n",
            "Training until validation scores don't improve for 50 rounds\n",
            "Did not meet early stopping. Best iteration is:\n",
            "[500]\tvalid_0's rmse: 3040.43\n",
            "Trial 2/10: CV RMSE = 3849.5994, CV WMAE = 1801.5317\n",
            "Training until validation scores don't improve for 50 rounds\n",
            "Did not meet early stopping. Best iteration is:\n",
            "[499]\tvalid_0's rmse: 4133.76\n",
            "Training until validation scores don't improve for 50 rounds\n",
            "Did not meet early stopping. Best iteration is:\n",
            "[500]\tvalid_0's rmse: 2565.38\n",
            "Training until validation scores don't improve for 50 rounds\n",
            "Did not meet early stopping. Best iteration is:\n",
            "[496]\tvalid_0's rmse: 2117.72\n",
            "Trial 3/10: CV RMSE = 2937.8096, CV WMAE = 1282.7284\n",
            "Training until validation scores don't improve for 50 rounds\n",
            "Early stopping, best iteration is:\n",
            "[312]\tvalid_0's rmse: 4093.74\n",
            "Training until validation scores don't improve for 50 rounds\n",
            "Did not meet early stopping. Best iteration is:\n",
            "[500]\tvalid_0's rmse: 2532.86\n",
            "Training until validation scores don't improve for 50 rounds\n",
            "Did not meet early stopping. Best iteration is:\n",
            "[500]\tvalid_0's rmse: 2086.81\n",
            "Trial 4/10: CV RMSE = 2903.8900, CV WMAE = 1267.5509\n",
            "Training until validation scores don't improve for 50 rounds\n",
            "Did not meet early stopping. Best iteration is:\n",
            "[500]\tvalid_0's rmse: 3964.69\n",
            "Training until validation scores don't improve for 50 rounds\n",
            "Did not meet early stopping. Best iteration is:\n",
            "[500]\tvalid_0's rmse: 2581.85\n",
            "Training until validation scores don't improve for 50 rounds\n",
            "Did not meet early stopping. Best iteration is:\n",
            "[495]\tvalid_0's rmse: 2082.23\n",
            "Trial 5/10: CV RMSE = 2875.7759, CV WMAE = 1259.6306\n",
            "Training until validation scores don't improve for 50 rounds\n",
            "Did not meet early stopping. Best iteration is:\n",
            "[500]\tvalid_0's rmse: 4520.18\n",
            "Training until validation scores don't improve for 50 rounds\n",
            "Did not meet early stopping. Best iteration is:\n",
            "[500]\tvalid_0's rmse: 3253.28\n",
            "Training until validation scores don't improve for 50 rounds\n",
            "Did not meet early stopping. Best iteration is:\n",
            "[500]\tvalid_0's rmse: 2721.68\n",
            "Trial 6/10: CV RMSE = 3498.2555, CV WMAE = 1598.7408\n",
            "Training until validation scores don't improve for 50 rounds\n",
            "Did not meet early stopping. Best iteration is:\n",
            "[454]\tvalid_0's rmse: 4038.16\n",
            "Training until validation scores don't improve for 50 rounds\n",
            "Did not meet early stopping. Best iteration is:\n",
            "[500]\tvalid_0's rmse: 2662.4\n",
            "Training until validation scores don't improve for 50 rounds\n",
            "Did not meet early stopping. Best iteration is:\n",
            "[497]\tvalid_0's rmse: 2160.49\n",
            "Trial 7/10: CV RMSE = 2953.0237, CV WMAE = 1318.4320\n",
            "Training until validation scores don't improve for 50 rounds\n",
            "Did not meet early stopping. Best iteration is:\n",
            "[500]\tvalid_0's rmse: 4084.84\n",
            "Training until validation scores don't improve for 50 rounds\n",
            "Did not meet early stopping. Best iteration is:\n",
            "[495]\tvalid_0's rmse: 2530.76\n",
            "Training until validation scores don't improve for 50 rounds\n",
            "Did not meet early stopping. Best iteration is:\n",
            "[500]\tvalid_0's rmse: 2089.44\n",
            "Trial 8/10: CV RMSE = 2900.9758, CV WMAE = 1268.3723\n",
            "Training until validation scores don't improve for 50 rounds\n",
            "Did not meet early stopping. Best iteration is:\n",
            "[500]\tvalid_0's rmse: 4751.51\n",
            "Training until validation scores don't improve for 50 rounds\n",
            "Did not meet early stopping. Best iteration is:\n",
            "[500]\tvalid_0's rmse: 3577.01\n",
            "Training until validation scores don't improve for 50 rounds\n",
            "Did not meet early stopping. Best iteration is:\n",
            "[500]\tvalid_0's rmse: 2982.61\n",
            "Trial 9/10: CV RMSE = 3770.3138, CV WMAE = 1762.0481\n",
            "Training until validation scores don't improve for 50 rounds\n",
            "Did not meet early stopping. Best iteration is:\n",
            "[496]\tvalid_0's rmse: 4166.17\n",
            "Training until validation scores don't improve for 50 rounds\n",
            "Did not meet early stopping. Best iteration is:\n",
            "[500]\tvalid_0's rmse: 2776.25\n",
            "Training until validation scores don't improve for 50 rounds\n",
            "Did not meet early stopping. Best iteration is:\n",
            "[494]\tvalid_0's rmse: 2261.39\n",
            "Trial 10/10: CV RMSE = 3066.8626, CV WMAE = 1393.4617\n",
            "\n",
            "Best Parameters Found:\n",
            "objective: regression\n",
            "metric: rmse\n",
            "boosting_type: gbdt\n",
            "num_leaves: 40\n",
            "learning_rate: 0.1\n",
            "feature_fraction: 1.0\n",
            "bagging_fraction: 0.8\n",
            "bagging_freq: 5\n",
            "min_child_samples: 30\n",
            "verbose: -1\n",
            "random_state: 42\n",
            "n_estimators: 500\n",
            "Best CV RMSE: 2875.7759\n",
            "Best CV WMAE: 1259.6306\n"
          ]
        }
      ],
      "source": [
        "# =================================================================\n",
        "# 8. Hyperparameter Tuning (Optional)\n",
        "# =================================================================\n",
        "\n",
        "def run_hyperparameter_tuning(train_data, selected_features, n_trials=20):\n",
        "    \"\"\"Run hyperparameter tuning for LightGBM\"\"\"\n",
        "\n",
        "    with mlflow.start_run(run_name=\"LightGBM_Hyperparameter_Tuning\"):\n",
        "\n",
        "        # Find the holiday column for weights\n",
        "        holiday_col = None\n",
        "        for col in train_data.columns:\n",
        "            if 'IsHoliday' in col:\n",
        "                holiday_col = col\n",
        "                break\n",
        "\n",
        "        if holiday_col is None:\n",
        "            weights = np.ones(len(train_data))\n",
        "        else:\n",
        "            weights = np.where(train_data[holiday_col] == 1, 5, 1)\n",
        "\n",
        "        # Prepare data\n",
        "        X = train_data[selected_features].copy()\n",
        "        y = train_data['Weekly_Sales'].copy()\n",
        "        X_processed = preprocessor.transform(X)\n",
        "\n",
        "        # Convert to numpy array if it's not already\n",
        "        if hasattr(X_processed, 'values'):\n",
        "            X_processed = X_processed.values\n",
        "\n",
        "        # Define parameter grid\n",
        "        param_grid = {\n",
        "            'num_leaves': [20, 31, 40],\n",
        "            'learning_rate': [0.01, 0.05, 0.1],\n",
        "            'feature_fraction': [0.8, 0.9, 1.0],\n",
        "            'bagging_fraction': [0.7, 0.8, 0.9],\n",
        "            'min_child_samples': [20, 30, 40]\n",
        "        }\n",
        "\n",
        "        best_score = float('inf')\n",
        "        best_params = None\n",
        "\n",
        "        # Simple grid search (you can use optuna for more advanced tuning)\n",
        "        from itertools import product\n",
        "\n",
        "        param_combinations = list(product(\n",
        "            param_grid['num_leaves'],\n",
        "            param_grid['learning_rate'],\n",
        "            param_grid['feature_fraction'],\n",
        "            param_grid['bagging_fraction'],\n",
        "            param_grid['min_child_samples']\n",
        "        ))\n",
        "\n",
        "        # Sample a subset for demonstration\n",
        "        np.random.seed(42)\n",
        "        sampled_combinations = np.random.choice(\n",
        "            len(param_combinations),\n",
        "            size=min(n_trials, len(param_combinations)),\n",
        "            replace=False\n",
        "        )\n",
        "\n",
        "        for i, idx in enumerate(sampled_combinations):\n",
        "            num_leaves, lr, feat_frac, bag_frac, min_child = param_combinations[idx]\n",
        "\n",
        "            params = {\n",
        "                'objective': 'regression',\n",
        "                'metric': 'rmse',\n",
        "                'boosting_type': 'gbdt',\n",
        "                'num_leaves': num_leaves,\n",
        "                'learning_rate': lr,\n",
        "                'feature_fraction': feat_frac,\n",
        "                'bagging_fraction': bag_frac,\n",
        "                'bagging_freq': 5,\n",
        "                'min_child_samples': min_child,\n",
        "                'verbose': -1,\n",
        "                'random_state': 42,\n",
        "                'n_estimators': 500\n",
        "            }\n",
        "\n",
        "            # Cross-validation\n",
        "            tscv = TimeSeriesSplit(n_splits=3)\n",
        "            cv_scores = []\n",
        "            cv_wmae_scores = []\n",
        "\n",
        "            for train_idx, val_idx in tscv.split(X_processed):\n",
        "                X_train_fold, X_val_fold = X_processed[train_idx], X_processed[val_idx]\n",
        "                y_train_fold, y_val_fold = y.iloc[train_idx], y.iloc[val_idx]\n",
        "                weights_val = weights[val_idx]\n",
        "\n",
        "                # Create LightGBM model\n",
        "                lgb_model = lgb.LGBMRegressor(**params)\n",
        "\n",
        "                # Fit with updated syntax\n",
        "                lgb_model.fit(\n",
        "                    X_train_fold, y_train_fold,\n",
        "                    eval_set=[(X_val_fold, y_val_fold)],\n",
        "                    eval_metric='rmse',\n",
        "                    callbacks=[lgb.early_stopping(50), lgb.log_evaluation(0)]\n",
        "                )\n",
        "\n",
        "                # Predictions\n",
        "                y_pred = lgb_model.predict(X_val_fold)\n",
        "\n",
        "                # Calculate metrics\n",
        "                rmse = np.sqrt(mean_squared_error(y_val_fold, y_pred))\n",
        "                wmae = weighted_mean_absolute_error(y_val_fold, y_pred, weights_val)\n",
        "\n",
        "                cv_scores.append(rmse)\n",
        "                cv_wmae_scores.append(wmae)\n",
        "\n",
        "            mean_cv_score = np.mean(cv_scores)\n",
        "            mean_cv_wmae = np.mean(cv_wmae_scores)\n",
        "\n",
        "            if mean_cv_score < best_score:\n",
        "                best_score = mean_cv_score\n",
        "                best_params = params.copy()\n",
        "                best_params['best_cv_wmae'] = mean_cv_wmae\n",
        "\n",
        "            print(f\"Trial {i+1}/{len(sampled_combinations)}: CV RMSE = {mean_cv_score:.4f}, CV WMAE = {mean_cv_wmae:.4f}\")\n",
        "\n",
        "        # Log best parameters\n",
        "        mlflow.log_param(\"tuning_trials\", len(sampled_combinations))\n",
        "        mlflow.log_metric(\"best_cv_rmse\", best_score)\n",
        "        mlflow.log_metric(\"best_cv_wmae\", best_params.get('best_cv_wmae', 0))\n",
        "\n",
        "        # Remove the metric from params before logging\n",
        "        best_params_clean = {k: v for k, v in best_params.items() if k != 'best_cv_wmae'}\n",
        "\n",
        "        for param, value in best_params_clean.items():\n",
        "            mlflow.log_param(f\"best_{param}\", value)\n",
        "\n",
        "        print(f\"\\nBest Parameters Found:\")\n",
        "        for param, value in best_params_clean.items():\n",
        "            print(f\"{param}: {value}\")\n",
        "        print(f\"Best CV RMSE: {best_score:.4f}\")\n",
        "        print(f\"Best CV WMAE: {best_params.get('best_cv_wmae', 'N/A'):.4f}\")\n",
        "\n",
        "        return best_params_clean\n",
        "\n",
        "# Run hyperparameter tuning (optional - can be time-consuming)\n",
        "best_params = run_hyperparameter_tuning(train_processed, selected_features, n_trials=10)"
      ]
    },
    {
      "cell_type": "code",
      "execution_count": null,
      "id": "b43f3efd",
      "metadata": {
        "id": "b43f3efd"
      },
      "outputs": [],
      "source": [
        "\n",
        "# =================================================================\n",
        "# 9. Final Model Registration\n",
        "# =================================================================\n",
        "\n",
        "def register_best_model(pipeline):\n",
        "    \"\"\"Register the best model in MLflow Model Registry\"\"\"\n",
        "\n",
        "    with mlflow.start_run(run_name=\"LightGBM_Model_Registration\"):\n",
        "\n",
        "        # Log final model info\n",
        "        mlflow.log_param(\"model_type\", \"LightGBM_Pipeline\")\n",
        "        mlflow.log_param(\"framework\", \"scikit-learn + LightGBM\")\n",
        "        mlflow.log_param(\"purpose\", \"Walmart Sales Forecasting\")\n",
        "\n",
        "        # Register model\n",
        "        model_uri = f\"runs:/{mlflow.active_run().info.run_id}/lightgbm_pipeline\"\n",
        "\n",
        "        # Register in Model Registry\n",
        "        mlflow.register_model(\n",
        "            model_uri=model_uri,\n",
        "            name=\"WalmartSales_LightGBM_Final\",\n",
        "            # description=\"Final LightGBM model for Walmart Sales Forecasting competition\"\n",
        "        )\n",
        "\n",
        "        print(\"Model successfully registered in MLflow Model Registry!\")\n",
        "        print(\"Model name: WalmartSales_LightGBM_Final\")\n",
        "\n",
        "# Register the model\n",
        "register_best_model(final_pipeline)\n"
      ]
    },
    {
      "cell_type": "code",
      "source": [
        "def register_best_model(model, model_name=\"WalmartSales_LightGBM_Final\"):\n",
        "    \"\"\"Register the best model in MLflow Model Registry\"\"\"\n",
        "\n",
        "    with mlflow.start_run(run_name=\"LightGBM_Model_Registration\"):\n",
        "\n",
        "        # Log the model first\n",
        "        mlflow.lightgbm.log_model(\n",
        "            lgb_model=model,\n",
        "            artifact_path=\"lightgbm_pipeline\",\n",
        "            registered_model_name=model_name,\n",
        "            signature=None,  # You can add signature if needed\n",
        "            input_example=None  # You can add input example if needed\n",
        "        )\n",
        "\n",
        "        # Get the current run ID\n",
        "        run_id = mlflow.active_run().info.run_id\n",
        "        model_uri = f\"runs:/{run_id}/lightgbm_pipeline\"\n",
        "\n",
        "        print(f\"Model registered successfully!\")\n",
        "        print(f\"Model URI: {model_uri}\")\n",
        "        print(f\"Model Name: {model_name}\")\n",
        "\n",
        "        return model_uri\n",
        "\n",
        "# Register the model\n",
        "model_uri = register_best_model(final_pipeline)"
      ],
      "metadata": {
        "id": "pcu0kmMkZHNX",
        "outputId": "1569a815-787a-4042-8265-bf33a310ef72",
        "colab": {
          "base_uri": "https://localhost:8080/"
        }
      },
      "id": "pcu0kmMkZHNX",
      "execution_count": 53,
      "outputs": [
        {
          "output_type": "stream",
          "name": "stderr",
          "text": [
            "2025/07/07 20:06:12 WARNING mlflow.models.model: `artifact_path` is deprecated. Please use `name` instead.\n",
            "\u001b[31m2025/07/07 20:06:23 WARNING mlflow.models.model: Model logged without a signature and input example. Please set `input_example` parameter when logging the model to auto infer the model signature.\u001b[0m\n"
          ]
        },
        {
          "output_type": "stream",
          "name": "stdout",
          "text": [
            "Model registered successfully!\n",
            "Model URI: runs:/df921bad20d544ec933f2a65ac1dc4b5/lightgbm_pipeline\n",
            "Model Name: WalmartSales_LightGBM_Final\n"
          ]
        },
        {
          "output_type": "stream",
          "name": "stderr",
          "text": [
            "Registered model 'WalmartSales_LightGBM_Final' already exists. Creating a new version of this model...\n",
            "Created version '2' of model 'WalmartSales_LightGBM_Final'.\n"
          ]
        }
      ]
    },
    {
      "cell_type": "code",
      "execution_count": 54,
      "id": "c792648d",
      "metadata": {
        "id": "c792648d",
        "outputId": "42b2ad3b-b594-4322-e3cd-b07084bd3891",
        "colab": {
          "base_uri": "https://localhost:8080/"
        }
      },
      "outputs": [
        {
          "output_type": "stream",
          "name": "stdout",
          "text": [
            "\n",
            "============================================================\n",
            "LIGHTGBM MODEL EXPERIMENT COMPLETE\n",
            "============================================================\n",
            "✓ Data preprocessing completed\n",
            "✓ Feature engineering and selection completed\n",
            "✓ Cross-validation RMSE: 3012.8920\n",
            "✓ Final model evaluation RMSE: 1880.4633\n",
            "✓ Final model evaluation MAE: 986.9149\n",
            "✓ Final model evaluation MAPE: inf%\n",
            "✓ Model registered in MLflow Model Registry\n",
            "\n",
            "Next steps:\n",
            "1. Run model_inference.ipynb to make predictions on test set\n",
            "2. Compare with other model architectures\n",
            "3. Submit predictions to Kaggle competition\n",
            "============================================================\n",
            "Pipeline saved as 'lightgbm_final_pipeline.pkl'\n",
            "Summary report saved as 'lightgbm_summary.json'\n"
          ]
        }
      ],
      "source": [
        "\n",
        "# =================================================================\n",
        "# 10. Summary and Next Steps\n",
        "# =================================================================\n",
        "\n",
        "print(\"\\n\" + \"=\"*60)\n",
        "print(\"LIGHTGBM MODEL EXPERIMENT COMPLETE\")\n",
        "print(\"=\"*60)\n",
        "print(f\"✓ Data preprocessing completed\")\n",
        "print(f\"✓ Feature engineering and selection completed\")\n",
        "print(f\"✓ Cross-validation RMSE: {cv_rmse:.4f}\")\n",
        "print(f\"✓ Final model evaluation RMSE: {eval_rmse:.4f}\")\n",
        "print(f\"✓ Final model evaluation MAE: {eval_mae:.4f}\")\n",
        "print(f\"✓ Final model evaluation MAPE: {eval_mape:.2f}%\")\n",
        "print(f\"✓ Model registered in MLflow Model Registry\")\n",
        "print(\"\\nNext steps:\")\n",
        "print(\"1. Run model_inference.ipynb to make predictions on test set\")\n",
        "print(\"2. Compare with other model architectures\")\n",
        "print(\"3. Submit predictions to Kaggle competition\")\n",
        "print(\"=\"*60)\n",
        "\n",
        "# Save the final pipeline for inference\n",
        "import joblib\n",
        "joblib.dump(final_pipeline, 'lightgbm_final_pipeline.pkl')\n",
        "print(\"Pipeline saved as 'lightgbm_final_pipeline.pkl'\")\n",
        "\n",
        "# Create a summary report\n",
        "summary_report = {\n",
        "    'Model': 'LightGBM',\n",
        "    'CV_RMSE': cv_rmse,\n",
        "    'CV_WMAE': cv_wmae,\n",
        "    'Final_RMSE': eval_rmse,\n",
        "    'Final_MAE': eval_mae,\n",
        "    'Final_MAPE': eval_mape,\n",
        "    'Selected_Features': len(selected_features),\n",
        "    'Model_Registered': True\n",
        "}\n",
        "\n",
        "import json\n",
        "with open('lightgbm_summary.json', 'w') as f:\n",
        "    json.dump(summary_report, f, indent=2)\n",
        "\n",
        "print(\"Summary report saved as 'lightgbm_summary.json'\")"
      ]
    }
  ],
  "metadata": {
    "language_info": {
      "name": "python"
    },
    "colab": {
      "provenance": [],
      "include_colab_link": true
    },
    "kernelspec": {
      "name": "python3",
      "display_name": "Python 3"
    },
    "widgets": {
      "application/vnd.jupyter.widget-state+json": {
        "5dff367ae0984ca48dd64bd7d875ab06": {
          "model_module": "@jupyter-widgets/output",
          "model_name": "OutputModel",
          "model_module_version": "1.0.0",
          "state": {
            "_dom_classes": [],
            "_model_module": "@jupyter-widgets/output",
            "_model_module_version": "1.0.0",
            "_model_name": "OutputModel",
            "_view_count": null,
            "_view_module": "@jupyter-widgets/output",
            "_view_module_version": "1.0.0",
            "_view_name": "OutputView",
            "layout": "IPY_MODEL_66063ecaa12b43a19b195bbed8de3c52",
            "msg_id": "",
            "outputs": [
              {
                "output_type": "display_data",
                "data": {
                  "text/plain": "\u001b[32m⠋\u001b[0m Waiting for authorization\n",
                  "text/html": "<pre style=\"white-space:pre;overflow-x:auto;line-height:normal;font-family:Menlo,'DejaVu Sans Mono',consolas,'Courier New',monospace\"><span style=\"color: #008000; text-decoration-color: #008000\">⠋</span> Waiting for authorization\n</pre>\n"
                },
                "metadata": {}
              }
            ]
          }
        },
        "66063ecaa12b43a19b195bbed8de3c52": {
          "model_module": "@jupyter-widgets/base",
          "model_name": "LayoutModel",
          "model_module_version": "1.2.0",
          "state": {
            "_model_module": "@jupyter-widgets/base",
            "_model_module_version": "1.2.0",
            "_model_name": "LayoutModel",
            "_view_count": null,
            "_view_module": "@jupyter-widgets/base",
            "_view_module_version": "1.2.0",
            "_view_name": "LayoutView",
            "align_content": null,
            "align_items": null,
            "align_self": null,
            "border": null,
            "bottom": null,
            "display": null,
            "flex": null,
            "flex_flow": null,
            "grid_area": null,
            "grid_auto_columns": null,
            "grid_auto_flow": null,
            "grid_auto_rows": null,
            "grid_column": null,
            "grid_gap": null,
            "grid_row": null,
            "grid_template_areas": null,
            "grid_template_columns": null,
            "grid_template_rows": null,
            "height": null,
            "justify_content": null,
            "justify_items": null,
            "left": null,
            "margin": null,
            "max_height": null,
            "max_width": null,
            "min_height": null,
            "min_width": null,
            "object_fit": null,
            "object_position": null,
            "order": null,
            "overflow": null,
            "overflow_x": null,
            "overflow_y": null,
            "padding": null,
            "right": null,
            "top": null,
            "visibility": null,
            "width": null
          }
        }
      }
    }
  },
  "nbformat": 4,
  "nbformat_minor": 5
}